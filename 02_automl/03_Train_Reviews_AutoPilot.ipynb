{
 "cells": [
  {
   "cell_type": "markdown",
   "metadata": {},
   "source": [
    "# Train a Model with SageMaker AutoPilot\n",
    "We will use AutoPilot to predict sentiment of customer reviews."
   ]
  },
  {
   "cell_type": "markdown",
   "metadata": {},
   "source": [
    "# Introduction"
   ]
  },
  {
   "cell_type": "markdown",
   "metadata": {},
   "source": [
    "Amazon SageMaker Autopilot is a service to perform automated machine learning (AutoML) on your datasets.  AutoPilot is available through the UI or AWS SDK.  In this notebook, we will use the AWS SDK to create and deploy a text processing and sentiment classification machine learning pipeline."
   ]
  },
  {
   "cell_type": "markdown",
   "metadata": {},
   "source": [
    "# Setup\n",
    "\n",
    "Let's start by specifying:\n",
    "\n",
    "* The S3 bucket and prefix to use to train our model.  _Note:  This should be in the same region as this notebook._\n",
    "* The IAM role of this notebook needs access to your data."
   ]
  },
  {
   "cell_type": "code",
   "execution_count": 1,
   "metadata": {},
   "outputs": [],
   "source": [
    "import boto3\n",
    "import sagemaker\n",
    "import pandas as pd\n",
    "\n",
    "sess   = sagemaker.Session()\n",
    "bucket = sess.default_bucket()\n",
    "role = sagemaker.get_execution_role()\n",
    "region = boto3.Session().region_name\n",
    "\n",
    "sm = boto3.Session().client(service_name='sagemaker', region_name=region)"
   ]
  },
  {
   "cell_type": "markdown",
   "metadata": {},
   "source": [
    "# Retreive the S3 Location of the Train Dataset from the Previous Notebook"
   ]
  },
  {
   "cell_type": "code",
   "execution_count": 2,
   "metadata": {},
   "outputs": [
    {
     "name": "stdout",
     "output_type": "stream",
     "text": [
      "s3://sagemaker-us-west-2-478630443205/data/train.csv\n"
     ]
    }
   ],
   "source": [
    "%store -r train_s3_uri\n",
    "\n",
    "print(train_s3_uri)"
   ]
  },
  {
   "cell_type": "code",
   "execution_count": 3,
   "metadata": {},
   "outputs": [
    {
     "name": "stdout",
     "output_type": "stream",
     "text": [
      "s3://sagemaker-us-west-2-478630443205/data/train.csv\n",
      "2020-03-21 16:11:35   34734959 train.csv\n"
     ]
    }
   ],
   "source": [
    "print(train_s3_uri)\n",
    "\n",
    "!aws s3 ls $train_s3_uri"
   ]
  },
  {
   "cell_type": "markdown",
   "metadata": {},
   "source": [
    "# Setup the S3 Location for the AutoPilot-Generated Assets \n",
    "This include Jupyter Notebooks (Analysis), Python Scripts (Feature Engineering), and Trained Models."
   ]
  },
  {
   "cell_type": "code",
   "execution_count": 4,
   "metadata": {},
   "outputs": [
    {
     "name": "stdout",
     "output_type": "stream",
     "text": [
      "s3://sagemaker-us-west-2-478630443205/models/autopilot\n"
     ]
    }
   ],
   "source": [
    "prefix_model_output = 'models/autopilot'\n",
    "\n",
    "autopilot_model_output_s3_uri = 's3://{}/{}'.format(bucket, prefix_model_output)\n",
    "\n",
    "print(autopilot_model_output_s3_uri)\n"
   ]
  },
  {
   "cell_type": "code",
   "execution_count": 5,
   "metadata": {},
   "outputs": [],
   "source": [
    "max_candidates = 3\n",
    "\n",
    "job_config = {\n",
    "    'CompletionCriteria': {\n",
    "      'MaxRuntimePerTrainingJobInSeconds': 600,\n",
    "      'MaxCandidates': max_candidates,\n",
    "      'MaxAutoMLJobRuntimeInSeconds': 3600\n",
    "    },\n",
    "}\n",
    "\n",
    "input_data_config = [{\n",
    "      'DataSource': {\n",
    "        'S3DataSource': {\n",
    "          'S3DataType': 'S3Prefix',\n",
    "          'S3Uri': '{}'.format(train_s3_uri)\n",
    "        }\n",
    "      },\n",
    "      'TargetAttributeName': 'is_positive_sentiment'\n",
    "    }\n",
    "]\n",
    "\n",
    "output_data_config = {\n",
    "    'S3OutputPath': '{}'.format(autopilot_model_output_s3_uri)\n",
    "}"
   ]
  },
  {
   "cell_type": "markdown",
   "metadata": {},
   "source": [
    "# Launch the SageMaker AutoPilot job\n",
    "\n",
    "We can now launch the job by calling the `create_auto_ml_job` API."
   ]
  },
  {
   "cell_type": "code",
   "execution_count": 6,
   "metadata": {},
   "outputs": [
    {
     "name": "stdout",
     "output_type": "stream",
     "text": [
      "AutoMLJobName: automl-dm-21-16-42-17\n"
     ]
    }
   ],
   "source": [
    "from time import gmtime, strftime, sleep\n",
    "timestamp_suffix = strftime('%d-%H-%M-%S', gmtime())\n",
    "\n",
    "auto_ml_job_name = 'automl-dm-' + timestamp_suffix\n",
    "print('AutoMLJobName: ' + auto_ml_job_name)"
   ]
  },
  {
   "cell_type": "markdown",
   "metadata": {},
   "source": [
    "_Note that we are not specifying the `ProblemType`.  AutoPilot will automatically detect if we're using regression or classification (binary or multi-class)._"
   ]
  },
  {
   "cell_type": "code",
   "execution_count": 7,
   "metadata": {},
   "outputs": [
    {
     "data": {
      "text/plain": [
       "{'AutoMLJobArn': 'arn:aws:sagemaker:us-west-2:478630443205:automl-job/automl-dm-21-16-42-17',\n",
       " 'ResponseMetadata': {'RequestId': '60f6204d-4cb3-4818-a288-aaedf6d698c3',\n",
       "  'HTTPStatusCode': 200,\n",
       "  'HTTPHeaders': {'x-amzn-requestid': '60f6204d-4cb3-4818-a288-aaedf6d698c3',\n",
       "   'content-type': 'application/x-amz-json-1.1',\n",
       "   'content-length': '92',\n",
       "   'date': 'Sat, 21 Mar 2020 16:42:19 GMT'},\n",
       "  'RetryAttempts': 0}}"
      ]
     },
     "execution_count": 7,
     "metadata": {},
     "output_type": "execute_result"
    }
   ],
   "source": [
    "sm.create_auto_ml_job(AutoMLJobName=auto_ml_job_name,\n",
    "                      InputDataConfig=input_data_config,\n",
    "                      OutputDataConfig=output_data_config,\n",
    "                      AutoMLJobConfig=job_config,\n",
    "#                      ProblemType=\"Classification\",\n",
    "                      RoleArn=role)"
   ]
  },
  {
   "cell_type": "markdown",
   "metadata": {},
   "source": [
    "# Tracking the progress of the AutoPilot job\n",
    "SageMaker AutoPilot job consists of the following high-level steps: \n",
    "* _Data Analysis_ where the data is summarized and analyzed to determine which feature engineering techniques, hyper-parameters, and models to explore.\n",
    "* _Feature Engineering_ where the data is scrubbed, balanced, combined, and split into train and validation\n",
    "* _Model Training and Tuning_ where the top performing features, hyper-parameters, and models are selected and trained."
   ]
  },
  {
   "cell_type": "markdown",
   "metadata": {},
   "source": [
    "# Analyzing Data"
   ]
  },
  {
   "cell_type": "code",
   "execution_count": 8,
   "metadata": {},
   "outputs": [
    {
     "name": "stdout",
     "output_type": "stream",
     "text": [
      "InProgress AnalyzingData\n",
      "InProgress AnalyzingData\n",
      "InProgress AnalyzingData\n",
      "InProgress AnalyzingData\n",
      "InProgress AnalyzingData\n",
      "InProgress AnalyzingData\n",
      "InProgress AnalyzingData\n",
      "InProgress AnalyzingData\n",
      "InProgress AnalyzingData\n",
      "InProgress AnalyzingData\n",
      "InProgress AnalyzingData\n",
      "InProgress AnalyzingData\n",
      "InProgress AnalyzingData\n",
      "InProgress AnalyzingData\n",
      "InProgress AnalyzingData\n",
      "InProgress FeatureEngineering\n",
      "Data analysis complete\n",
      "{'AutoMLJobName': 'automl-dm-21-16-42-17', 'AutoMLJobArn': 'arn:aws:sagemaker:us-west-2:478630443205:automl-job/automl-dm-21-16-42-17', 'InputDataConfig': [{'DataSource': {'S3DataSource': {'S3DataType': 'S3Prefix', 'S3Uri': 's3://sagemaker-us-west-2-478630443205/data/train.csv'}}, 'TargetAttributeName': 'is_positive_sentiment'}], 'OutputDataConfig': {'S3OutputPath': 's3://sagemaker-us-west-2-478630443205/models/autopilot'}, 'RoleArn': 'arn:aws:iam::478630443205:role/TeamRole', 'AutoMLJobConfig': {'CompletionCriteria': {'MaxCandidates': 3, 'MaxRuntimePerTrainingJobInSeconds': 600, 'MaxAutoMLJobRuntimeInSeconds': 3600}}, 'CreationTime': datetime.datetime(2020, 3, 21, 16, 42, 19, 736000, tzinfo=tzlocal()), 'LastModifiedTime': datetime.datetime(2020, 3, 21, 16, 49, 46, 689000, tzinfo=tzlocal()), 'AutoMLJobStatus': 'InProgress', 'AutoMLJobSecondaryStatus': 'FeatureEngineering', 'GenerateCandidateDefinitionsOnly': False, 'AutoMLJobArtifacts': {'CandidateDefinitionNotebookLocation': 's3://sagemaker-us-west-2-478630443205/models/autopilot/automl-dm-21-16-42-17/sagemaker-automl-candidates/pr-1-19d528f1fe414d298cb9423129f233ea3691f8e548ef46cebabb72cabe/notebooks/SageMakerAutopilotCandidateDefinitionNotebook.ipynb', 'DataExplorationNotebookLocation': 's3://sagemaker-us-west-2-478630443205/models/autopilot/automl-dm-21-16-42-17/sagemaker-automl-candidates/pr-1-19d528f1fe414d298cb9423129f233ea3691f8e548ef46cebabb72cabe/notebooks/SageMakerAutopilotDataExplorationNotebook.ipynb'}, 'ResolvedAttributes': {'AutoMLJobObjective': {'MetricName': 'Accuracy'}, 'ProblemType': 'BinaryClassification', 'CompletionCriteria': {'MaxCandidates': 3, 'MaxRuntimePerTrainingJobInSeconds': 600, 'MaxAutoMLJobRuntimeInSeconds': 3600}}, 'ResponseMetadata': {'RequestId': '35c6d9de-1ffa-4f81-ab2f-98d2a33120b2', 'HTTPStatusCode': 200, 'HTTPHeaders': {'x-amzn-requestid': '35c6d9de-1ffa-4f81-ab2f-98d2a33120b2', 'content-type': 'application/x-amz-json-1.1', 'content-length': '1570', 'date': 'Sat, 21 Mar 2020 16:49:58 GMT'}, 'RetryAttempts': 0}}\n"
     ]
    }
   ],
   "source": [
    "# Sleep for a bit to ensure the AutoML job above has time to start\n",
    "import time\n",
    "time.sleep(3)\n",
    "\n",
    "job = sm.describe_auto_ml_job(AutoMLJobName=auto_ml_job_name)\n",
    "job_status = job['AutoMLJobStatus']\n",
    "job_sec_status = job['AutoMLJobSecondaryStatus']\n",
    "\n",
    "if job_status not in ('Stopped', 'Failed'):\n",
    "    while job_status in ('InProgress') and job_sec_status in ('AnalyzingData'):\n",
    "        job = sm.describe_auto_ml_job(AutoMLJobName=auto_ml_job_name)\n",
    "        job_status = job['AutoMLJobStatus']\n",
    "        job_sec_status = job['AutoMLJobSecondaryStatus']\n",
    "        print(job_status, job_sec_status)\n",
    "        sleep(30)\n",
    "    print(\"Data analysis complete\")\n",
    "    \n",
    "print(job)"
   ]
  },
  {
   "cell_type": "markdown",
   "metadata": {},
   "source": [
    "## View Generated Notebooks\n",
    "Once data analysis is complete, SageMaker AutoPilot generates two notebooks: \n",
    "* Data exploration,\n",
    "* Candidate definition."
   ]
  },
  {
   "cell_type": "code",
   "execution_count": 9,
   "metadata": {
    "scrolled": true
   },
   "outputs": [
    {
     "name": "stdout",
     "output_type": "stream",
     "text": [
      "{'AutoMLJobName': 'automl-dm-21-16-42-17', 'AutoMLJobArn': 'arn:aws:sagemaker:us-west-2:478630443205:automl-job/automl-dm-21-16-42-17', 'InputDataConfig': [{'DataSource': {'S3DataSource': {'S3DataType': 'S3Prefix', 'S3Uri': 's3://sagemaker-us-west-2-478630443205/data/train.csv'}}, 'TargetAttributeName': 'is_positive_sentiment'}], 'OutputDataConfig': {'S3OutputPath': 's3://sagemaker-us-west-2-478630443205/models/autopilot'}, 'RoleArn': 'arn:aws:iam::478630443205:role/TeamRole', 'AutoMLJobConfig': {'CompletionCriteria': {'MaxCandidates': 3, 'MaxRuntimePerTrainingJobInSeconds': 600, 'MaxAutoMLJobRuntimeInSeconds': 3600}}, 'CreationTime': datetime.datetime(2020, 3, 21, 16, 42, 19, 736000, tzinfo=tzlocal()), 'LastModifiedTime': datetime.datetime(2020, 3, 21, 16, 50, 22, 576000, tzinfo=tzlocal()), 'AutoMLJobStatus': 'InProgress', 'AutoMLJobSecondaryStatus': 'FeatureEngineering', 'GenerateCandidateDefinitionsOnly': False, 'AutoMLJobArtifacts': {'CandidateDefinitionNotebookLocation': 's3://sagemaker-us-west-2-478630443205/models/autopilot/automl-dm-21-16-42-17/sagemaker-automl-candidates/pr-1-19d528f1fe414d298cb9423129f233ea3691f8e548ef46cebabb72cabe/notebooks/SageMakerAutopilotCandidateDefinitionNotebook.ipynb', 'DataExplorationNotebookLocation': 's3://sagemaker-us-west-2-478630443205/models/autopilot/automl-dm-21-16-42-17/sagemaker-automl-candidates/pr-1-19d528f1fe414d298cb9423129f233ea3691f8e548ef46cebabb72cabe/notebooks/SageMakerAutopilotDataExplorationNotebook.ipynb'}, 'ResolvedAttributes': {'AutoMLJobObjective': {'MetricName': 'Accuracy'}, 'ProblemType': 'BinaryClassification', 'CompletionCriteria': {'MaxCandidates': 3, 'MaxRuntimePerTrainingJobInSeconds': 600, 'MaxAutoMLJobRuntimeInSeconds': 3600}}, 'ResponseMetadata': {'RequestId': 'f7103e4e-f027-466d-8ade-0d8981642360', 'HTTPStatusCode': 200, 'HTTPHeaders': {'x-amzn-requestid': 'f7103e4e-f027-466d-8ade-0d8981642360', 'content-type': 'application/x-amz-json-1.1', 'content-length': '1570', 'date': 'Sat, 21 Mar 2020 16:50:28 GMT'}, 'RetryAttempts': 0}}\n"
     ]
    }
   ],
   "source": [
    "job = sm.describe_auto_ml_job(AutoMLJobName=auto_ml_job_name)\n",
    "print(job)"
   ]
  },
  {
   "cell_type": "markdown",
   "metadata": {},
   "source": [
    "## Copy the Generated Notebooks and Scripts Locally"
   ]
  },
  {
   "cell_type": "code",
   "execution_count": 10,
   "metadata": {
    "scrolled": true
   },
   "outputs": [
    {
     "data": {
      "text/plain": [
       "'s3://sagemaker-us-west-2-478630443205/models/autopilot/automl-dm-21-16-42-17/sagemaker-automl-candidates/pr-1-19d528f1fe414d298cb9423129f233ea3691f8e548ef46cebabb72c'"
      ]
     },
     "execution_count": 10,
     "metadata": {},
     "output_type": "execute_result"
    }
   ],
   "source": [
    "generated_resources = job['AutoMLJobArtifacts']['DataExplorationNotebookLocation'].rstrip('notebooks/SageMakerAutopilotDataExplorationNotebook.ipynb')\n",
    "generated_resources"
   ]
  },
  {
   "cell_type": "code",
   "execution_count": 11,
   "metadata": {
    "scrolled": false
   },
   "outputs": [],
   "source": [
    "!rm -rf ./generated_module\n",
    "!rm -rf ./notebooks\n",
    "!aws s3 cp --recursive $generated_resources ."
   ]
  },
  {
   "cell_type": "markdown",
   "metadata": {},
   "source": [
    "## In the file view, open the `notebooks/` and `generated_module/` folders. \n",
    "Lots of useful information in these folders ^^"
   ]
  },
  {
   "cell_type": "markdown",
   "metadata": {},
   "source": [
    "# Feature Engineering"
   ]
  },
  {
   "cell_type": "code",
   "execution_count": 12,
   "metadata": {},
   "outputs": [
    {
     "name": "stdout",
     "output_type": "stream",
     "text": [
      "Completed\n",
      "MaxCandidatesReached\n",
      "Feature engineering complete\n",
      "{'AutoMLJobName': 'automl-dm-21-16-42-17', 'AutoMLJobArn': 'arn:aws:sagemaker:us-west-2:478630443205:automl-job/automl-dm-21-16-42-17', 'InputDataConfig': [{'DataSource': {'S3DataSource': {'S3DataType': 'S3Prefix', 'S3Uri': 's3://sagemaker-us-west-2-478630443205/data/train.csv'}}, 'TargetAttributeName': 'is_positive_sentiment'}], 'OutputDataConfig': {'S3OutputPath': 's3://sagemaker-us-west-2-478630443205/models/autopilot'}, 'RoleArn': 'arn:aws:iam::478630443205:role/TeamRole', 'AutoMLJobConfig': {'CompletionCriteria': {'MaxCandidates': 3, 'MaxRuntimePerTrainingJobInSeconds': 600, 'MaxAutoMLJobRuntimeInSeconds': 3600}}, 'CreationTime': datetime.datetime(2020, 3, 21, 16, 42, 19, 736000, tzinfo=tzlocal()), 'EndTime': datetime.datetime(2020, 3, 21, 17, 1, 4, 170000, tzinfo=tzlocal()), 'LastModifiedTime': datetime.datetime(2020, 3, 21, 17, 1, 4, 205000, tzinfo=tzlocal()), 'BestCandidate': {'CandidateName': 'tuning-job-1-06c264e52ee342af8a-001-50efc7cd', 'FinalAutoMLJobObjectiveMetric': {'MetricName': 'validation:accuracy', 'Value': 0.8573060035705566}, 'ObjectiveStatus': 'Succeeded', 'CandidateSteps': [{'CandidateStepType': 'AWS::SageMaker::ProcessingJob', 'CandidateStepArn': 'arn:aws:sagemaker:us-west-2:478630443205:processing-job/db-1-b12c9df78d514b859cce83f3ae64afff3c5566db1bea4aca8e0a29031f', 'CandidateStepName': 'db-1-b12c9df78d514b859cce83f3ae64afff3c5566db1bea4aca8e0a29031f'}, {'CandidateStepType': 'AWS::SageMaker::TrainingJob', 'CandidateStepArn': 'arn:aws:sagemaker:us-west-2:478630443205:training-job/automl-dm--dpp0-1-5fc63b23a4fe408cb60801af737479bfd04606d2e3df4', 'CandidateStepName': 'automl-dm--dpp0-1-5fc63b23a4fe408cb60801af737479bfd04606d2e3df4'}, {'CandidateStepType': 'AWS::SageMaker::TransformJob', 'CandidateStepArn': 'arn:aws:sagemaker:us-west-2:478630443205:transform-job/automl-dm--dpp0-rpb-1-c727b35c0b794f5b8bae2856427fcbf48e985b202', 'CandidateStepName': 'automl-dm--dpp0-rpb-1-c727b35c0b794f5b8bae2856427fcbf48e985b202'}, {'CandidateStepType': 'AWS::SageMaker::TrainingJob', 'CandidateStepArn': 'arn:aws:sagemaker:us-west-2:478630443205:training-job/tuning-job-1-06c264e52ee342af8a-001-50efc7cd', 'CandidateStepName': 'tuning-job-1-06c264e52ee342af8a-001-50efc7cd'}], 'CandidateStatus': 'Completed', 'InferenceContainers': [{'Image': '246618743249.dkr.ecr.us-west-2.amazonaws.com/sagemaker-sklearn-automl:0.1.0-cpu-py3', 'ModelDataUrl': 's3://sagemaker-us-west-2-478630443205/models/autopilot/automl-dm-21-16-42-17/data-processor-models/automl-dm--dpp0-1-5fc63b23a4fe408cb60801af737479bfd04606d2e3df4/output/model.tar.gz', 'Environment': {'AUTOML_SPARSE_ENCODE_RECORDIO_PROTOBUF': '1', 'AUTOML_TRANSFORM_MODE': 'feature-transform', 'SAGEMAKER_DEFAULT_INVOCATIONS_ACCEPT': 'application/x-recordio-protobuf', 'SAGEMAKER_PROGRAM': 'sagemaker_serve', 'SAGEMAKER_SUBMIT_DIRECTORY': '/opt/ml/model/sagemaker_serve.py'}}, {'Image': '246618743249.dkr.ecr.us-west-2.amazonaws.com/sagemaker-xgboost:0.90-1-cpu-py3', 'ModelDataUrl': 's3://sagemaker-us-west-2-478630443205/models/autopilot/automl-dm-21-16-42-17/tuning/automl-dm--dpp0-xgb/tuning-job-1-06c264e52ee342af8a-001-50efc7cd/output/model.tar.gz', 'Environment': {'MAX_CONTENT_LENGTH': '20971520', 'SAGEMAKER_DEFAULT_INVOCATIONS_ACCEPT': 'text/csv'}}, {'Image': '246618743249.dkr.ecr.us-west-2.amazonaws.com/sagemaker-sklearn-automl:0.1.0-cpu-py3', 'ModelDataUrl': 's3://sagemaker-us-west-2-478630443205/models/autopilot/automl-dm-21-16-42-17/data-processor-models/automl-dm--dpp0-1-5fc63b23a4fe408cb60801af737479bfd04606d2e3df4/output/model.tar.gz', 'Environment': {'AUTOML_TRANSFORM_MODE': 'inverse-label-transform', 'SAGEMAKER_DEFAULT_INVOCATIONS_ACCEPT': 'text/csv', 'SAGEMAKER_PROGRAM': 'sagemaker_serve', 'SAGEMAKER_SUBMIT_DIRECTORY': '/opt/ml/model/sagemaker_serve.py'}}], 'CreationTime': datetime.datetime(2020, 3, 21, 16, 58, 58, tzinfo=tzlocal()), 'EndTime': datetime.datetime(2020, 3, 21, 17, 0, 22, tzinfo=tzlocal()), 'LastModifiedTime': datetime.datetime(2020, 3, 21, 17, 1, 3, 59000, tzinfo=tzlocal())}, 'AutoMLJobStatus': 'Completed', 'AutoMLJobSecondaryStatus': 'MaxCandidatesReached', 'GenerateCandidateDefinitionsOnly': False, 'AutoMLJobArtifacts': {'CandidateDefinitionNotebookLocation': 's3://sagemaker-us-west-2-478630443205/models/autopilot/automl-dm-21-16-42-17/sagemaker-automl-candidates/pr-1-19d528f1fe414d298cb9423129f233ea3691f8e548ef46cebabb72cabe/notebooks/SageMakerAutopilotCandidateDefinitionNotebook.ipynb', 'DataExplorationNotebookLocation': 's3://sagemaker-us-west-2-478630443205/models/autopilot/automl-dm-21-16-42-17/sagemaker-automl-candidates/pr-1-19d528f1fe414d298cb9423129f233ea3691f8e548ef46cebabb72cabe/notebooks/SageMakerAutopilotDataExplorationNotebook.ipynb'}, 'ResolvedAttributes': {'AutoMLJobObjective': {'MetricName': 'Accuracy'}, 'ProblemType': 'BinaryClassification', 'CompletionCriteria': {'MaxCandidates': 3, 'MaxRuntimePerTrainingJobInSeconds': 600, 'MaxAutoMLJobRuntimeInSeconds': 3600}}, 'ResponseMetadata': {'RequestId': '7b540632-cccb-402e-8ea7-2009be3fd0eb', 'HTTPStatusCode': 200, 'HTTPHeaders': {'x-amzn-requestid': '7b540632-cccb-402e-8ea7-2009be3fd0eb', 'content-type': 'application/x-amz-json-1.1', 'content-length': '4506', 'date': 'Sat, 21 Mar 2020 17:15:37 GMT'}, 'RetryAttempts': 0}}\n"
     ]
    }
   ],
   "source": [
    "job = sm.describe_auto_ml_job(AutoMLJobName=auto_ml_job_name)\n",
    "job_status = job['AutoMLJobStatus']\n",
    "job_sec_status = job['AutoMLJobSecondaryStatus']\n",
    "print(job_status)\n",
    "print(job_sec_status)\n",
    "if job_status not in ('Stopped', 'Failed'):\n",
    "    while job_status in ('InProgress') and job_sec_status in ('FeatureEngineering'):\n",
    "        job = sm.describe_auto_ml_job(AutoMLJobName=auto_ml_job_name)\n",
    "        job_status = job['AutoMLJobStatus']\n",
    "        job_sec_status = job['AutoMLJobSecondaryStatus']\n",
    "        print(job_status, job_sec_status)\n",
    "        sleep(30)\n",
    "    print(\"Feature engineering complete\")\n",
    "    \n",
    "print(job)"
   ]
  },
  {
   "cell_type": "markdown",
   "metadata": {},
   "source": [
    "# Model Training and Tuning"
   ]
  },
  {
   "cell_type": "code",
   "execution_count": 13,
   "metadata": {
    "scrolled": true
   },
   "outputs": [
    {
     "name": "stdout",
     "output_type": "stream",
     "text": [
      "Completed\n",
      "MaxCandidatesReached\n",
      "Model tuning complete\n",
      "{'AutoMLJobName': 'automl-dm-21-16-42-17', 'AutoMLJobArn': 'arn:aws:sagemaker:us-west-2:478630443205:automl-job/automl-dm-21-16-42-17', 'InputDataConfig': [{'DataSource': {'S3DataSource': {'S3DataType': 'S3Prefix', 'S3Uri': 's3://sagemaker-us-west-2-478630443205/data/train.csv'}}, 'TargetAttributeName': 'is_positive_sentiment'}], 'OutputDataConfig': {'S3OutputPath': 's3://sagemaker-us-west-2-478630443205/models/autopilot'}, 'RoleArn': 'arn:aws:iam::478630443205:role/TeamRole', 'AutoMLJobConfig': {'CompletionCriteria': {'MaxCandidates': 3, 'MaxRuntimePerTrainingJobInSeconds': 600, 'MaxAutoMLJobRuntimeInSeconds': 3600}}, 'CreationTime': datetime.datetime(2020, 3, 21, 16, 42, 19, 736000, tzinfo=tzlocal()), 'EndTime': datetime.datetime(2020, 3, 21, 17, 1, 4, 170000, tzinfo=tzlocal()), 'LastModifiedTime': datetime.datetime(2020, 3, 21, 17, 1, 4, 205000, tzinfo=tzlocal()), 'BestCandidate': {'CandidateName': 'tuning-job-1-06c264e52ee342af8a-001-50efc7cd', 'FinalAutoMLJobObjectiveMetric': {'MetricName': 'validation:accuracy', 'Value': 0.8573060035705566}, 'ObjectiveStatus': 'Succeeded', 'CandidateSteps': [{'CandidateStepType': 'AWS::SageMaker::ProcessingJob', 'CandidateStepArn': 'arn:aws:sagemaker:us-west-2:478630443205:processing-job/db-1-b12c9df78d514b859cce83f3ae64afff3c5566db1bea4aca8e0a29031f', 'CandidateStepName': 'db-1-b12c9df78d514b859cce83f3ae64afff3c5566db1bea4aca8e0a29031f'}, {'CandidateStepType': 'AWS::SageMaker::TrainingJob', 'CandidateStepArn': 'arn:aws:sagemaker:us-west-2:478630443205:training-job/automl-dm--dpp0-1-5fc63b23a4fe408cb60801af737479bfd04606d2e3df4', 'CandidateStepName': 'automl-dm--dpp0-1-5fc63b23a4fe408cb60801af737479bfd04606d2e3df4'}, {'CandidateStepType': 'AWS::SageMaker::TransformJob', 'CandidateStepArn': 'arn:aws:sagemaker:us-west-2:478630443205:transform-job/automl-dm--dpp0-rpb-1-c727b35c0b794f5b8bae2856427fcbf48e985b202', 'CandidateStepName': 'automl-dm--dpp0-rpb-1-c727b35c0b794f5b8bae2856427fcbf48e985b202'}, {'CandidateStepType': 'AWS::SageMaker::TrainingJob', 'CandidateStepArn': 'arn:aws:sagemaker:us-west-2:478630443205:training-job/tuning-job-1-06c264e52ee342af8a-001-50efc7cd', 'CandidateStepName': 'tuning-job-1-06c264e52ee342af8a-001-50efc7cd'}], 'CandidateStatus': 'Completed', 'InferenceContainers': [{'Image': '246618743249.dkr.ecr.us-west-2.amazonaws.com/sagemaker-sklearn-automl:0.1.0-cpu-py3', 'ModelDataUrl': 's3://sagemaker-us-west-2-478630443205/models/autopilot/automl-dm-21-16-42-17/data-processor-models/automl-dm--dpp0-1-5fc63b23a4fe408cb60801af737479bfd04606d2e3df4/output/model.tar.gz', 'Environment': {'AUTOML_SPARSE_ENCODE_RECORDIO_PROTOBUF': '1', 'AUTOML_TRANSFORM_MODE': 'feature-transform', 'SAGEMAKER_DEFAULT_INVOCATIONS_ACCEPT': 'application/x-recordio-protobuf', 'SAGEMAKER_PROGRAM': 'sagemaker_serve', 'SAGEMAKER_SUBMIT_DIRECTORY': '/opt/ml/model/sagemaker_serve.py'}}, {'Image': '246618743249.dkr.ecr.us-west-2.amazonaws.com/sagemaker-xgboost:0.90-1-cpu-py3', 'ModelDataUrl': 's3://sagemaker-us-west-2-478630443205/models/autopilot/automl-dm-21-16-42-17/tuning/automl-dm--dpp0-xgb/tuning-job-1-06c264e52ee342af8a-001-50efc7cd/output/model.tar.gz', 'Environment': {'MAX_CONTENT_LENGTH': '20971520', 'SAGEMAKER_DEFAULT_INVOCATIONS_ACCEPT': 'text/csv'}}, {'Image': '246618743249.dkr.ecr.us-west-2.amazonaws.com/sagemaker-sklearn-automl:0.1.0-cpu-py3', 'ModelDataUrl': 's3://sagemaker-us-west-2-478630443205/models/autopilot/automl-dm-21-16-42-17/data-processor-models/automl-dm--dpp0-1-5fc63b23a4fe408cb60801af737479bfd04606d2e3df4/output/model.tar.gz', 'Environment': {'AUTOML_TRANSFORM_MODE': 'inverse-label-transform', 'SAGEMAKER_DEFAULT_INVOCATIONS_ACCEPT': 'text/csv', 'SAGEMAKER_PROGRAM': 'sagemaker_serve', 'SAGEMAKER_SUBMIT_DIRECTORY': '/opt/ml/model/sagemaker_serve.py'}}], 'CreationTime': datetime.datetime(2020, 3, 21, 16, 58, 58, tzinfo=tzlocal()), 'EndTime': datetime.datetime(2020, 3, 21, 17, 0, 22, tzinfo=tzlocal()), 'LastModifiedTime': datetime.datetime(2020, 3, 21, 17, 1, 3, 59000, tzinfo=tzlocal())}, 'AutoMLJobStatus': 'Completed', 'AutoMLJobSecondaryStatus': 'MaxCandidatesReached', 'GenerateCandidateDefinitionsOnly': False, 'AutoMLJobArtifacts': {'CandidateDefinitionNotebookLocation': 's3://sagemaker-us-west-2-478630443205/models/autopilot/automl-dm-21-16-42-17/sagemaker-automl-candidates/pr-1-19d528f1fe414d298cb9423129f233ea3691f8e548ef46cebabb72cabe/notebooks/SageMakerAutopilotCandidateDefinitionNotebook.ipynb', 'DataExplorationNotebookLocation': 's3://sagemaker-us-west-2-478630443205/models/autopilot/automl-dm-21-16-42-17/sagemaker-automl-candidates/pr-1-19d528f1fe414d298cb9423129f233ea3691f8e548ef46cebabb72cabe/notebooks/SageMakerAutopilotDataExplorationNotebook.ipynb'}, 'ResolvedAttributes': {'AutoMLJobObjective': {'MetricName': 'Accuracy'}, 'ProblemType': 'BinaryClassification', 'CompletionCriteria': {'MaxCandidates': 3, 'MaxRuntimePerTrainingJobInSeconds': 600, 'MaxAutoMLJobRuntimeInSeconds': 3600}}, 'ResponseMetadata': {'RequestId': 'd51f184d-a810-41cc-9124-498c0622a9c0', 'HTTPStatusCode': 200, 'HTTPHeaders': {'x-amzn-requestid': 'd51f184d-a810-41cc-9124-498c0622a9c0', 'content-type': 'application/x-amz-json-1.1', 'content-length': '4506', 'date': 'Sat, 21 Mar 2020 17:15:46 GMT'}, 'RetryAttempts': 0}}\n"
     ]
    }
   ],
   "source": [
    "job = sm.describe_auto_ml_job(AutoMLJobName=auto_ml_job_name)\n",
    "job_status = job['AutoMLJobStatus']\n",
    "job_sec_status = job['AutoMLJobSecondaryStatus']\n",
    "print(job_status)\n",
    "print(job_sec_status)\n",
    "if job_status not in ('Stopped', 'Failed'):\n",
    "    while job_status in ('InProgress') and job_sec_status in ('ModelTuning'):\n",
    "        job = sm.describe_auto_ml_job(AutoMLJobName=auto_ml_job_name)\n",
    "        job_status = job['AutoMLJobStatus']\n",
    "        job_sec_status = job['AutoMLJobSecondaryStatus']\n",
    "        print(job_status, job_sec_status)\n",
    "        sleep(30)\n",
    "    print(\"Model tuning complete\")\n",
    "    \n",
    "print(job)"
   ]
  },
  {
   "cell_type": "markdown",
   "metadata": {},
   "source": [
    "# Viewing All Candidates\n",
    "Once model tuning is complete, you can view all the candidates (pipeline evaluations with different hyperparameter combinations) that were explored by AutoML and sort them by their final performance metric."
   ]
  },
  {
   "cell_type": "code",
   "execution_count": 14,
   "metadata": {},
   "outputs": [
    {
     "name": "stdout",
     "output_type": "stream",
     "text": [
      "0  tuning-job-1-06c264e52ee342af8a-001-50efc7cd  0.8573060035705566\n",
      "1  tuning-job-1-06c264e52ee342af8a-002-81d6c26f  0.6181219816207886\n",
      "2  tuning-job-1-06c264e52ee342af8a-003-c7a29789  0.6181219816207886\n"
     ]
    }
   ],
   "source": [
    "candidates = sm.list_candidates_for_auto_ml_job(AutoMLJobName=auto_ml_job_name, \n",
    "                                                SortBy='FinalObjectiveMetricValue')['Candidates']\n",
    "for index, candidate in enumerate(candidates):\n",
    "    print(str(index) + \"  \" \n",
    "        + candidate['CandidateName'] + \"  \" \n",
    "        + str(candidate['FinalAutoMLJobObjectiveMetric']['Value']))"
   ]
  },
  {
   "cell_type": "markdown",
   "metadata": {},
   "source": [
    "# Inspect Trials using Experiments API\n",
    "SageMaker AutoPilot automatically creates a new experiment, and pushes information for each trial. "
   ]
  },
  {
   "cell_type": "code",
   "execution_count": 15,
   "metadata": {},
   "outputs": [
    {
     "data": {
      "text/html": [
       "<div>\n",
       "<style scoped>\n",
       "    .dataframe tbody tr th:only-of-type {\n",
       "        vertical-align: middle;\n",
       "    }\n",
       "\n",
       "    .dataframe tbody tr th {\n",
       "        vertical-align: top;\n",
       "    }\n",
       "\n",
       "    .dataframe thead th {\n",
       "        text-align: right;\n",
       "    }\n",
       "</style>\n",
       "<table border=\"1\" class=\"dataframe\">\n",
       "  <thead>\n",
       "    <tr style=\"text-align: right;\">\n",
       "      <th></th>\n",
       "      <th>TrialComponentName</th>\n",
       "      <th>DisplayName</th>\n",
       "      <th>SourceArn</th>\n",
       "      <th>SageMaker.ImageUri</th>\n",
       "      <th>SageMaker.InstanceCount</th>\n",
       "      <th>SageMaker.InstanceType</th>\n",
       "      <th>SageMaker.VolumeSizeInGB</th>\n",
       "      <th>_tuning_objective_metric</th>\n",
       "      <th>alpha</th>\n",
       "      <th>colsample_bytree</th>\n",
       "      <th>...</th>\n",
       "      <th>train:accuracy - Count</th>\n",
       "      <th>SageMaker.ModelName</th>\n",
       "      <th>SageMaker.ModelPrimary.DataUrl</th>\n",
       "      <th>SageMaker.ModelPrimary.Image</th>\n",
       "      <th>processor_module</th>\n",
       "      <th>sagemaker_program</th>\n",
       "      <th>sagemaker_submit_directory</th>\n",
       "      <th>input_channel_mode</th>\n",
       "      <th>job_name</th>\n",
       "      <th>label_col</th>\n",
       "    </tr>\n",
       "  </thead>\n",
       "  <tbody>\n",
       "    <tr>\n",
       "      <th>0</th>\n",
       "      <td>tuning-job-1-06c264e52ee342af8a-001-50efc7cd-a...</td>\n",
       "      <td>tuning-job-1-06c264e52ee342af8a-001-50efc7cd-a...</td>\n",
       "      <td>arn:aws:sagemaker:us-west-2:478630443205:train...</td>\n",
       "      <td>246618743249.dkr.ecr.us-west-2.amazonaws.com/s...</td>\n",
       "      <td>1.0</td>\n",
       "      <td>ml.m5.4xlarge</td>\n",
       "      <td>50.0</td>\n",
       "      <td>validation:accuracy</td>\n",
       "      <td>0.000019</td>\n",
       "      <td>0.379370</td>\n",
       "      <td>...</td>\n",
       "      <td>86.0</td>\n",
       "      <td>NaN</td>\n",
       "      <td>NaN</td>\n",
       "      <td>NaN</td>\n",
       "      <td>NaN</td>\n",
       "      <td>NaN</td>\n",
       "      <td>NaN</td>\n",
       "      <td>NaN</td>\n",
       "      <td>NaN</td>\n",
       "      <td>NaN</td>\n",
       "    </tr>\n",
       "    <tr>\n",
       "      <th>1</th>\n",
       "      <td>tuning-job-1-06c264e52ee342af8a-002-81d6c26f-a...</td>\n",
       "      <td>tuning-job-1-06c264e52ee342af8a-002-81d6c26f-a...</td>\n",
       "      <td>arn:aws:sagemaker:us-west-2:478630443205:train...</td>\n",
       "      <td>246618743249.dkr.ecr.us-west-2.amazonaws.com/s...</td>\n",
       "      <td>1.0</td>\n",
       "      <td>ml.m5.4xlarge</td>\n",
       "      <td>50.0</td>\n",
       "      <td>validation:accuracy</td>\n",
       "      <td>0.000025</td>\n",
       "      <td>0.555207</td>\n",
       "      <td>...</td>\n",
       "      <td>3.0</td>\n",
       "      <td>NaN</td>\n",
       "      <td>NaN</td>\n",
       "      <td>NaN</td>\n",
       "      <td>NaN</td>\n",
       "      <td>NaN</td>\n",
       "      <td>NaN</td>\n",
       "      <td>NaN</td>\n",
       "      <td>NaN</td>\n",
       "      <td>NaN</td>\n",
       "    </tr>\n",
       "    <tr>\n",
       "      <th>2</th>\n",
       "      <td>tuning-job-1-06c264e52ee342af8a-003-c7a29789-a...</td>\n",
       "      <td>tuning-job-1-06c264e52ee342af8a-003-c7a29789-a...</td>\n",
       "      <td>arn:aws:sagemaker:us-west-2:478630443205:train...</td>\n",
       "      <td>246618743249.dkr.ecr.us-west-2.amazonaws.com/s...</td>\n",
       "      <td>1.0</td>\n",
       "      <td>ml.m5.4xlarge</td>\n",
       "      <td>50.0</td>\n",
       "      <td>validation:accuracy</td>\n",
       "      <td>0.000025</td>\n",
       "      <td>0.555207</td>\n",
       "      <td>...</td>\n",
       "      <td>11.0</td>\n",
       "      <td>NaN</td>\n",
       "      <td>NaN</td>\n",
       "      <td>NaN</td>\n",
       "      <td>NaN</td>\n",
       "      <td>NaN</td>\n",
       "      <td>NaN</td>\n",
       "      <td>NaN</td>\n",
       "      <td>NaN</td>\n",
       "      <td>NaN</td>\n",
       "    </tr>\n",
       "    <tr>\n",
       "      <th>3</th>\n",
       "      <td>automl-dm--dpp0-rpb-1-c727b35c0b794f5b8bae2856...</td>\n",
       "      <td>automl-dm--dpp0-rpb-1-c727b35c0b794f5b8bae2856...</td>\n",
       "      <td>arn:aws:sagemaker:us-west-2:478630443205:trans...</td>\n",
       "      <td>NaN</td>\n",
       "      <td>1.0</td>\n",
       "      <td>ml.m5.4xlarge</td>\n",
       "      <td>NaN</td>\n",
       "      <td>NaN</td>\n",
       "      <td>NaN</td>\n",
       "      <td>NaN</td>\n",
       "      <td>...</td>\n",
       "      <td>NaN</td>\n",
       "      <td>automl-dm-21-16-42-17-automl-dm--dpp0-model-48...</td>\n",
       "      <td>s3://sagemaker-us-west-2-478630443205/models/a...</td>\n",
       "      <td>246618743249.dkr.ecr.us-west-2.amazonaws.com/s...</td>\n",
       "      <td>NaN</td>\n",
       "      <td>NaN</td>\n",
       "      <td>NaN</td>\n",
       "      <td>NaN</td>\n",
       "      <td>NaN</td>\n",
       "      <td>NaN</td>\n",
       "    </tr>\n",
       "    <tr>\n",
       "      <th>4</th>\n",
       "      <td>automl-dm--dpp1-csv-1-337f1c604276437e9bdc11c4...</td>\n",
       "      <td>automl-dm--dpp1-csv-1-337f1c604276437e9bdc11c4...</td>\n",
       "      <td>arn:aws:sagemaker:us-west-2:478630443205:trans...</td>\n",
       "      <td>NaN</td>\n",
       "      <td>1.0</td>\n",
       "      <td>ml.m5.4xlarge</td>\n",
       "      <td>NaN</td>\n",
       "      <td>NaN</td>\n",
       "      <td>NaN</td>\n",
       "      <td>NaN</td>\n",
       "      <td>...</td>\n",
       "      <td>NaN</td>\n",
       "      <td>automl-dm-21-16-42-17-automl-dm--dpp1-model-d1...</td>\n",
       "      <td>s3://sagemaker-us-west-2-478630443205/models/a...</td>\n",
       "      <td>246618743249.dkr.ecr.us-west-2.amazonaws.com/s...</td>\n",
       "      <td>NaN</td>\n",
       "      <td>NaN</td>\n",
       "      <td>NaN</td>\n",
       "      <td>NaN</td>\n",
       "      <td>NaN</td>\n",
       "      <td>NaN</td>\n",
       "    </tr>\n",
       "    <tr>\n",
       "      <th>5</th>\n",
       "      <td>automl-dm--dpp0-1-5fc63b23a4fe408cb60801af7374...</td>\n",
       "      <td>automl-dm--dpp0-1-5fc63b23a4fe408cb60801af7374...</td>\n",
       "      <td>arn:aws:sagemaker:us-west-2:478630443205:train...</td>\n",
       "      <td>246618743249.dkr.ecr.us-west-2.amazonaws.com/s...</td>\n",
       "      <td>1.0</td>\n",
       "      <td>ml.m5.4xlarge</td>\n",
       "      <td>50.0</td>\n",
       "      <td>NaN</td>\n",
       "      <td>NaN</td>\n",
       "      <td>NaN</td>\n",
       "      <td>...</td>\n",
       "      <td>NaN</td>\n",
       "      <td>NaN</td>\n",
       "      <td>NaN</td>\n",
       "      <td>NaN</td>\n",
       "      <td>candidate_data_processors.dpp0</td>\n",
       "      <td>candidate_data_processors.trainer</td>\n",
       "      <td>/opt/ml/input/data/code</td>\n",
       "      <td>NaN</td>\n",
       "      <td>NaN</td>\n",
       "      <td>NaN</td>\n",
       "    </tr>\n",
       "    <tr>\n",
       "      <th>6</th>\n",
       "      <td>automl-dm--dpp1-1-37ed9a1440334e82bb6901fe2ac5...</td>\n",
       "      <td>automl-dm--dpp1-1-37ed9a1440334e82bb6901fe2ac5...</td>\n",
       "      <td>arn:aws:sagemaker:us-west-2:478630443205:train...</td>\n",
       "      <td>246618743249.dkr.ecr.us-west-2.amazonaws.com/s...</td>\n",
       "      <td>1.0</td>\n",
       "      <td>ml.m5.4xlarge</td>\n",
       "      <td>50.0</td>\n",
       "      <td>NaN</td>\n",
       "      <td>NaN</td>\n",
       "      <td>NaN</td>\n",
       "      <td>...</td>\n",
       "      <td>NaN</td>\n",
       "      <td>NaN</td>\n",
       "      <td>NaN</td>\n",
       "      <td>NaN</td>\n",
       "      <td>candidate_data_processors.dpp1</td>\n",
       "      <td>candidate_data_processors.trainer</td>\n",
       "      <td>/opt/ml/input/data/code</td>\n",
       "      <td>NaN</td>\n",
       "      <td>NaN</td>\n",
       "      <td>NaN</td>\n",
       "    </tr>\n",
       "    <tr>\n",
       "      <th>7</th>\n",
       "      <td>db-1-b12c9df78d514b859cce83f3ae64afff3c5566db1...</td>\n",
       "      <td>db-1-b12c9df78d514b859cce83f3ae64afff3c5566db1...</td>\n",
       "      <td>arn:aws:sagemaker:us-west-2:478630443205:proce...</td>\n",
       "      <td>NaN</td>\n",
       "      <td>1.0</td>\n",
       "      <td>ml.m5.2xlarge</td>\n",
       "      <td>250.0</td>\n",
       "      <td>NaN</td>\n",
       "      <td>NaN</td>\n",
       "      <td>NaN</td>\n",
       "      <td>...</td>\n",
       "      <td>NaN</td>\n",
       "      <td>NaN</td>\n",
       "      <td>NaN</td>\n",
       "      <td>NaN</td>\n",
       "      <td>NaN</td>\n",
       "      <td>NaN</td>\n",
       "      <td>NaN</td>\n",
       "      <td>Pipe</td>\n",
       "      <td>automl-dm-21-16-42-17</td>\n",
       "      <td>is_positive_sentiment</td>\n",
       "    </tr>\n",
       "  </tbody>\n",
       "</table>\n",
       "<p>8 rows × 57 columns</p>\n",
       "</div>"
      ],
      "text/plain": [
       "                                  TrialComponentName  \\\n",
       "0  tuning-job-1-06c264e52ee342af8a-001-50efc7cd-a...   \n",
       "1  tuning-job-1-06c264e52ee342af8a-002-81d6c26f-a...   \n",
       "2  tuning-job-1-06c264e52ee342af8a-003-c7a29789-a...   \n",
       "3  automl-dm--dpp0-rpb-1-c727b35c0b794f5b8bae2856...   \n",
       "4  automl-dm--dpp1-csv-1-337f1c604276437e9bdc11c4...   \n",
       "5  automl-dm--dpp0-1-5fc63b23a4fe408cb60801af7374...   \n",
       "6  automl-dm--dpp1-1-37ed9a1440334e82bb6901fe2ac5...   \n",
       "7  db-1-b12c9df78d514b859cce83f3ae64afff3c5566db1...   \n",
       "\n",
       "                                         DisplayName  \\\n",
       "0  tuning-job-1-06c264e52ee342af8a-001-50efc7cd-a...   \n",
       "1  tuning-job-1-06c264e52ee342af8a-002-81d6c26f-a...   \n",
       "2  tuning-job-1-06c264e52ee342af8a-003-c7a29789-a...   \n",
       "3  automl-dm--dpp0-rpb-1-c727b35c0b794f5b8bae2856...   \n",
       "4  automl-dm--dpp1-csv-1-337f1c604276437e9bdc11c4...   \n",
       "5  automl-dm--dpp0-1-5fc63b23a4fe408cb60801af7374...   \n",
       "6  automl-dm--dpp1-1-37ed9a1440334e82bb6901fe2ac5...   \n",
       "7  db-1-b12c9df78d514b859cce83f3ae64afff3c5566db1...   \n",
       "\n",
       "                                           SourceArn  \\\n",
       "0  arn:aws:sagemaker:us-west-2:478630443205:train...   \n",
       "1  arn:aws:sagemaker:us-west-2:478630443205:train...   \n",
       "2  arn:aws:sagemaker:us-west-2:478630443205:train...   \n",
       "3  arn:aws:sagemaker:us-west-2:478630443205:trans...   \n",
       "4  arn:aws:sagemaker:us-west-2:478630443205:trans...   \n",
       "5  arn:aws:sagemaker:us-west-2:478630443205:train...   \n",
       "6  arn:aws:sagemaker:us-west-2:478630443205:train...   \n",
       "7  arn:aws:sagemaker:us-west-2:478630443205:proce...   \n",
       "\n",
       "                                  SageMaker.ImageUri  SageMaker.InstanceCount  \\\n",
       "0  246618743249.dkr.ecr.us-west-2.amazonaws.com/s...                      1.0   \n",
       "1  246618743249.dkr.ecr.us-west-2.amazonaws.com/s...                      1.0   \n",
       "2  246618743249.dkr.ecr.us-west-2.amazonaws.com/s...                      1.0   \n",
       "3                                                NaN                      1.0   \n",
       "4                                                NaN                      1.0   \n",
       "5  246618743249.dkr.ecr.us-west-2.amazonaws.com/s...                      1.0   \n",
       "6  246618743249.dkr.ecr.us-west-2.amazonaws.com/s...                      1.0   \n",
       "7                                                NaN                      1.0   \n",
       "\n",
       "  SageMaker.InstanceType  SageMaker.VolumeSizeInGB _tuning_objective_metric  \\\n",
       "0          ml.m5.4xlarge                      50.0      validation:accuracy   \n",
       "1          ml.m5.4xlarge                      50.0      validation:accuracy   \n",
       "2          ml.m5.4xlarge                      50.0      validation:accuracy   \n",
       "3          ml.m5.4xlarge                       NaN                      NaN   \n",
       "4          ml.m5.4xlarge                       NaN                      NaN   \n",
       "5          ml.m5.4xlarge                      50.0                      NaN   \n",
       "6          ml.m5.4xlarge                      50.0                      NaN   \n",
       "7          ml.m5.2xlarge                     250.0                      NaN   \n",
       "\n",
       "      alpha  colsample_bytree  ...  train:accuracy - Count  \\\n",
       "0  0.000019          0.379370  ...                    86.0   \n",
       "1  0.000025          0.555207  ...                     3.0   \n",
       "2  0.000025          0.555207  ...                    11.0   \n",
       "3       NaN               NaN  ...                     NaN   \n",
       "4       NaN               NaN  ...                     NaN   \n",
       "5       NaN               NaN  ...                     NaN   \n",
       "6       NaN               NaN  ...                     NaN   \n",
       "7       NaN               NaN  ...                     NaN   \n",
       "\n",
       "                                 SageMaker.ModelName  \\\n",
       "0                                                NaN   \n",
       "1                                                NaN   \n",
       "2                                                NaN   \n",
       "3  automl-dm-21-16-42-17-automl-dm--dpp0-model-48...   \n",
       "4  automl-dm-21-16-42-17-automl-dm--dpp1-model-d1...   \n",
       "5                                                NaN   \n",
       "6                                                NaN   \n",
       "7                                                NaN   \n",
       "\n",
       "                      SageMaker.ModelPrimary.DataUrl  \\\n",
       "0                                                NaN   \n",
       "1                                                NaN   \n",
       "2                                                NaN   \n",
       "3  s3://sagemaker-us-west-2-478630443205/models/a...   \n",
       "4  s3://sagemaker-us-west-2-478630443205/models/a...   \n",
       "5                                                NaN   \n",
       "6                                                NaN   \n",
       "7                                                NaN   \n",
       "\n",
       "                        SageMaker.ModelPrimary.Image  \\\n",
       "0                                                NaN   \n",
       "1                                                NaN   \n",
       "2                                                NaN   \n",
       "3  246618743249.dkr.ecr.us-west-2.amazonaws.com/s...   \n",
       "4  246618743249.dkr.ecr.us-west-2.amazonaws.com/s...   \n",
       "5                                                NaN   \n",
       "6                                                NaN   \n",
       "7                                                NaN   \n",
       "\n",
       "                 processor_module                  sagemaker_program  \\\n",
       "0                             NaN                                NaN   \n",
       "1                             NaN                                NaN   \n",
       "2                             NaN                                NaN   \n",
       "3                             NaN                                NaN   \n",
       "4                             NaN                                NaN   \n",
       "5  candidate_data_processors.dpp0  candidate_data_processors.trainer   \n",
       "6  candidate_data_processors.dpp1  candidate_data_processors.trainer   \n",
       "7                             NaN                                NaN   \n",
       "\n",
       "  sagemaker_submit_directory  input_channel_mode               job_name  \\\n",
       "0                        NaN                 NaN                    NaN   \n",
       "1                        NaN                 NaN                    NaN   \n",
       "2                        NaN                 NaN                    NaN   \n",
       "3                        NaN                 NaN                    NaN   \n",
       "4                        NaN                 NaN                    NaN   \n",
       "5    /opt/ml/input/data/code                 NaN                    NaN   \n",
       "6    /opt/ml/input/data/code                 NaN                    NaN   \n",
       "7                        NaN                Pipe  automl-dm-21-16-42-17   \n",
       "\n",
       "               label_col  \n",
       "0                    NaN  \n",
       "1                    NaN  \n",
       "2                    NaN  \n",
       "3                    NaN  \n",
       "4                    NaN  \n",
       "5                    NaN  \n",
       "6                    NaN  \n",
       "7  is_positive_sentiment  \n",
       "\n",
       "[8 rows x 57 columns]"
      ]
     },
     "execution_count": 15,
     "metadata": {},
     "output_type": "execute_result"
    }
   ],
   "source": [
    "from sagemaker.analytics import ExperimentAnalytics, TrainingJobAnalytics\n",
    "\n",
    "exp = ExperimentAnalytics(\n",
    "    sagemaker_session=sess, \n",
    "    experiment_name=auto_ml_job_name + '-aws-auto-ml-job',\n",
    ")\n",
    "\n",
    "df = exp.dataframe()\n",
    "df"
   ]
  },
  {
   "cell_type": "markdown",
   "metadata": {},
   "source": [
    "# Explore the Best Candidate\n",
    "Now that we have successfully completed the AutoML job on our dataset and visualized the trials, we can create a model from any of the trials with a single API call and then deploy that model for online or batch prediction using [Inference Pipelines](https://docs.aws.amazon.com/sagemaker/latest/dg/inference-pipelines.html). For this notebook, we deploy only the best performing trial for inference."
   ]
  },
  {
   "cell_type": "markdown",
   "metadata": {},
   "source": [
    "The best candidate is the one we're really interested in."
   ]
  },
  {
   "cell_type": "code",
   "execution_count": 16,
   "metadata": {},
   "outputs": [
    {
     "name": "stdout",
     "output_type": "stream",
     "text": [
      "Candidate name: tuning-job-1-06c264e52ee342af8a-001-50efc7cd\n",
      "Metric name: validation:accuracy\n",
      "Metric value: 0.8573060035705566\n"
     ]
    }
   ],
   "source": [
    "best_candidate = sm.describe_auto_ml_job(AutoMLJobName=auto_ml_job_name)['BestCandidate']\n",
    "best_candidate_identifier = best_candidate['CandidateName']\n",
    "\n",
    "print(\"Candidate name: \" + best_candidate_identifier)\n",
    "print(\"Metric name: \" + best_candidate['FinalAutoMLJobObjectiveMetric']['MetricName'])\n",
    "print(\"Metric value: \" + str(best_candidate['FinalAutoMLJobObjectiveMetric']['Value']))"
   ]
  },
  {
   "cell_type": "code",
   "execution_count": 17,
   "metadata": {},
   "outputs": [
    {
     "data": {
      "text/plain": [
       "{'CandidateName': 'tuning-job-1-06c264e52ee342af8a-001-50efc7cd',\n",
       " 'FinalAutoMLJobObjectiveMetric': {'MetricName': 'validation:accuracy',\n",
       "  'Value': 0.8573060035705566},\n",
       " 'ObjectiveStatus': 'Succeeded',\n",
       " 'CandidateSteps': [{'CandidateStepType': 'AWS::SageMaker::ProcessingJob',\n",
       "   'CandidateStepArn': 'arn:aws:sagemaker:us-west-2:478630443205:processing-job/db-1-b12c9df78d514b859cce83f3ae64afff3c5566db1bea4aca8e0a29031f',\n",
       "   'CandidateStepName': 'db-1-b12c9df78d514b859cce83f3ae64afff3c5566db1bea4aca8e0a29031f'},\n",
       "  {'CandidateStepType': 'AWS::SageMaker::TrainingJob',\n",
       "   'CandidateStepArn': 'arn:aws:sagemaker:us-west-2:478630443205:training-job/automl-dm--dpp0-1-5fc63b23a4fe408cb60801af737479bfd04606d2e3df4',\n",
       "   'CandidateStepName': 'automl-dm--dpp0-1-5fc63b23a4fe408cb60801af737479bfd04606d2e3df4'},\n",
       "  {'CandidateStepType': 'AWS::SageMaker::TransformJob',\n",
       "   'CandidateStepArn': 'arn:aws:sagemaker:us-west-2:478630443205:transform-job/automl-dm--dpp0-rpb-1-c727b35c0b794f5b8bae2856427fcbf48e985b202',\n",
       "   'CandidateStepName': 'automl-dm--dpp0-rpb-1-c727b35c0b794f5b8bae2856427fcbf48e985b202'},\n",
       "  {'CandidateStepType': 'AWS::SageMaker::TrainingJob',\n",
       "   'CandidateStepArn': 'arn:aws:sagemaker:us-west-2:478630443205:training-job/tuning-job-1-06c264e52ee342af8a-001-50efc7cd',\n",
       "   'CandidateStepName': 'tuning-job-1-06c264e52ee342af8a-001-50efc7cd'}],\n",
       " 'CandidateStatus': 'Completed',\n",
       " 'InferenceContainers': [{'Image': '246618743249.dkr.ecr.us-west-2.amazonaws.com/sagemaker-sklearn-automl:0.1.0-cpu-py3',\n",
       "   'ModelDataUrl': 's3://sagemaker-us-west-2-478630443205/models/autopilot/automl-dm-21-16-42-17/data-processor-models/automl-dm--dpp0-1-5fc63b23a4fe408cb60801af737479bfd04606d2e3df4/output/model.tar.gz',\n",
       "   'Environment': {'AUTOML_SPARSE_ENCODE_RECORDIO_PROTOBUF': '1',\n",
       "    'AUTOML_TRANSFORM_MODE': 'feature-transform',\n",
       "    'SAGEMAKER_DEFAULT_INVOCATIONS_ACCEPT': 'application/x-recordio-protobuf',\n",
       "    'SAGEMAKER_PROGRAM': 'sagemaker_serve',\n",
       "    'SAGEMAKER_SUBMIT_DIRECTORY': '/opt/ml/model/sagemaker_serve.py'}},\n",
       "  {'Image': '246618743249.dkr.ecr.us-west-2.amazonaws.com/sagemaker-xgboost:0.90-1-cpu-py3',\n",
       "   'ModelDataUrl': 's3://sagemaker-us-west-2-478630443205/models/autopilot/automl-dm-21-16-42-17/tuning/automl-dm--dpp0-xgb/tuning-job-1-06c264e52ee342af8a-001-50efc7cd/output/model.tar.gz',\n",
       "   'Environment': {'MAX_CONTENT_LENGTH': '20971520',\n",
       "    'SAGEMAKER_DEFAULT_INVOCATIONS_ACCEPT': 'text/csv'}},\n",
       "  {'Image': '246618743249.dkr.ecr.us-west-2.amazonaws.com/sagemaker-sklearn-automl:0.1.0-cpu-py3',\n",
       "   'ModelDataUrl': 's3://sagemaker-us-west-2-478630443205/models/autopilot/automl-dm-21-16-42-17/data-processor-models/automl-dm--dpp0-1-5fc63b23a4fe408cb60801af737479bfd04606d2e3df4/output/model.tar.gz',\n",
       "   'Environment': {'AUTOML_TRANSFORM_MODE': 'inverse-label-transform',\n",
       "    'SAGEMAKER_DEFAULT_INVOCATIONS_ACCEPT': 'text/csv',\n",
       "    'SAGEMAKER_PROGRAM': 'sagemaker_serve',\n",
       "    'SAGEMAKER_SUBMIT_DIRECTORY': '/opt/ml/model/sagemaker_serve.py'}}],\n",
       " 'CreationTime': datetime.datetime(2020, 3, 21, 16, 58, 58, tzinfo=tzlocal()),\n",
       " 'EndTime': datetime.datetime(2020, 3, 21, 17, 0, 22, tzinfo=tzlocal()),\n",
       " 'LastModifiedTime': datetime.datetime(2020, 3, 21, 17, 1, 3, 59000, tzinfo=tzlocal())}"
      ]
     },
     "execution_count": 17,
     "metadata": {},
     "output_type": "execute_result"
    }
   ],
   "source": [
    "best_candidate"
   ]
  },
  {
   "cell_type": "markdown",
   "metadata": {},
   "source": [
    "We can see the containers and models composing the Inference Pipeline."
   ]
  },
  {
   "cell_type": "code",
   "execution_count": 18,
   "metadata": {},
   "outputs": [
    {
     "name": "stdout",
     "output_type": "stream",
     "text": [
      "246618743249.dkr.ecr.us-west-2.amazonaws.com/sagemaker-sklearn-automl:0.1.0-cpu-py3\n",
      "s3://sagemaker-us-west-2-478630443205/models/autopilot/automl-dm-21-16-42-17/data-processor-models/automl-dm--dpp0-1-5fc63b23a4fe408cb60801af737479bfd04606d2e3df4/output/model.tar.gz\n",
      "======================\n",
      "246618743249.dkr.ecr.us-west-2.amazonaws.com/sagemaker-xgboost:0.90-1-cpu-py3\n",
      "s3://sagemaker-us-west-2-478630443205/models/autopilot/automl-dm-21-16-42-17/tuning/automl-dm--dpp0-xgb/tuning-job-1-06c264e52ee342af8a-001-50efc7cd/output/model.tar.gz\n",
      "======================\n",
      "246618743249.dkr.ecr.us-west-2.amazonaws.com/sagemaker-sklearn-automl:0.1.0-cpu-py3\n",
      "s3://sagemaker-us-west-2-478630443205/models/autopilot/automl-dm-21-16-42-17/data-processor-models/automl-dm--dpp0-1-5fc63b23a4fe408cb60801af737479bfd04606d2e3df4/output/model.tar.gz\n",
      "======================\n"
     ]
    }
   ],
   "source": [
    "for container in best_candidate['InferenceContainers']:\n",
    "    print(container['Image'])\n",
    "    print(container['ModelDataUrl'])\n",
    "    print('======================')"
   ]
  },
  {
   "cell_type": "markdown",
   "metadata": {},
   "source": [
    "### Not surprising, AutoPilot has chosen XGBoost as the best model!\n",
    "\n",
    "Note that AutoPilot chose different hyper-parameters and feature transformations than we used in our own XGBoost model."
   ]
  },
  {
   "cell_type": "markdown",
   "metadata": {},
   "source": [
    "# Deploy the Model as a REST Endpoint\n",
    "Batch transformations are also supported, but for now, we will use a REST Endpoint."
   ]
  },
  {
   "cell_type": "code",
   "execution_count": 19,
   "metadata": {},
   "outputs": [
    {
     "name": "stdout",
     "output_type": "stream",
     "text": [
      "Best candidate model ARN:  arn:aws:sagemaker:us-west-2:478630443205:model/automl-dm-model-21-16-42-17\n"
     ]
    }
   ],
   "source": [
    "model_name = 'automl-dm-model-' + timestamp_suffix\n",
    "\n",
    "model_arn = sm.create_model(Containers=best_candidate['InferenceContainers'],\n",
    "                            ModelName=model_name,\n",
    "                            ExecutionRoleArn=role)\n",
    "\n",
    "print('Best candidate model ARN: ', model_arn['ModelArn'])"
   ]
  },
  {
   "cell_type": "code",
   "execution_count": 20,
   "metadata": {},
   "outputs": [
    {
     "name": "stdout",
     "output_type": "stream",
     "text": [
      "automl-dm-ep-21-17-16-15\n",
      "automl-dm-variant-21-17-16-15\n"
     ]
    }
   ],
   "source": [
    "# EndpointConfig name\n",
    "timestamp_suffix = strftime('%d-%H-%M-%S', gmtime())\n",
    "epc_name = 'automl-dm-epc-' + timestamp_suffix\n",
    "\n",
    "# Endpoint name\n",
    "xgb_endpoint_name = 'automl-dm-ep-' + timestamp_suffix\n",
    "variant_name = 'automl-dm-variant-' + timestamp_suffix\n",
    "\n",
    "print(xgb_endpoint_name)\n",
    "print(variant_name)"
   ]
  },
  {
   "cell_type": "code",
   "execution_count": 21,
   "metadata": {},
   "outputs": [],
   "source": [
    "ep_config = sm.create_endpoint_config(EndpointConfigName = epc_name,\n",
    "                                      ProductionVariants=[{'InstanceType':'ml.m4.xlarge',\n",
    "                                                           'InitialInstanceCount': 1,\n",
    "                                                           'ModelName': model_name,\n",
    "                                                           'VariantName': variant_name}])\n"
   ]
  },
  {
   "cell_type": "code",
   "execution_count": 22,
   "metadata": {},
   "outputs": [
    {
     "name": "stdout",
     "output_type": "stream",
     "text": [
      "arn:aws:sagemaker:us-west-2:478630443205:endpoint/automl-dm-ep-21-17-16-15\n"
     ]
    }
   ],
   "source": [
    "create_endpoint_response = sm.create_endpoint(EndpointName=xgb_endpoint_name,\n",
    "                                              EndpointConfigName=epc_name)\n",
    "print(create_endpoint_response['EndpointArn'])"
   ]
  },
  {
   "cell_type": "markdown",
   "metadata": {},
   "source": [
    "# Wait for the Model to Deploy\n",
    "This may take 5-10 mins.  Please be patient."
   ]
  },
  {
   "cell_type": "code",
   "execution_count": 23,
   "metadata": {},
   "outputs": [],
   "source": [
    "sm.get_waiter('endpoint_in_service').wait(EndpointName=xgb_endpoint_name)"
   ]
  },
  {
   "cell_type": "code",
   "execution_count": 24,
   "metadata": {},
   "outputs": [
    {
     "name": "stdout",
     "output_type": "stream",
     "text": [
      "Arn: arn:aws:sagemaker:us-west-2:478630443205:endpoint/automl-dm-ep-21-17-16-15\n",
      "Status: InService\n"
     ]
    }
   ],
   "source": [
    "resp = sm.describe_endpoint(EndpointName=xgb_endpoint_name)\n",
    "status = resp['EndpointStatus']\n",
    "\n",
    "print(\"Arn: \" + resp['EndpointArn'])\n",
    "print(\"Status: \" + status)"
   ]
  },
  {
   "cell_type": "markdown",
   "metadata": {},
   "source": [
    "# Test Our Model with Some Example Reviews\n",
    "Let's do some ad-hoc predictions on our model."
   ]
  },
  {
   "cell_type": "code",
   "execution_count": 25,
   "metadata": {},
   "outputs": [],
   "source": [
    "sm_runtime = boto3.client('sagemaker-runtime')"
   ]
  },
  {
   "cell_type": "code",
   "execution_count": 26,
   "metadata": {},
   "outputs": [
    {
     "data": {
      "text/plain": [
       "'1'"
      ]
     },
     "execution_count": 26,
     "metadata": {},
     "output_type": "execute_result"
    }
   ],
   "source": [
    "csv_line_predict_positive = \"\"\"I loved it!  I will recommend this to everyone.\"\"\"\n",
    "\n",
    "response = sm_runtime.invoke_endpoint(EndpointName=xgb_endpoint_name, ContentType='text/csv', Accept='text/csv', Body=csv_line_predict_positive)\n",
    "\n",
    "response_body = response['Body'].read().decode('utf-8').strip()\n",
    "response_body"
   ]
  },
  {
   "cell_type": "code",
   "execution_count": 27,
   "metadata": {
    "scrolled": true
   },
   "outputs": [
    {
     "data": {
      "text/plain": [
       "'0'"
      ]
     },
     "execution_count": 27,
     "metadata": {},
     "output_type": "execute_result"
    }
   ],
   "source": [
    "csv_line_predict_negative = \"\"\"Really bad.  I hope they stop making this.\"\"\"\n",
    "\n",
    "response = sm_runtime.invoke_endpoint(EndpointName=xgb_endpoint_name, ContentType='text/csv', Accept='text/csv', Body=csv_line_predict_negative)\n",
    "\n",
    "response_body = response['Body'].read().decode('utf-8').strip()\n",
    "response_body"
   ]
  },
  {
   "cell_type": "markdown",
   "metadata": {},
   "source": [
    "# Calculate Full Test Metrics\n",
    "Let's compute full test metrics using our holdout `test` dataset."
   ]
  },
  {
   "cell_type": "markdown",
   "metadata": {},
   "source": [
    "## Load the Test Data"
   ]
  },
  {
   "cell_type": "code",
   "execution_count": 28,
   "metadata": {},
   "outputs": [],
   "source": [
    "test_path = './data/test.csv'"
   ]
  },
  {
   "cell_type": "code",
   "execution_count": 29,
   "metadata": {},
   "outputs": [
    {
     "name": "stdout",
     "output_type": "stream",
     "text": [
      "-rw-rw-r-- 1 ec2-user ec2-user 3870626 Mar 21 16:11 ./data/test.csv\r\n"
     ]
    }
   ],
   "source": [
    "ls -al $test_path"
   ]
  },
  {
   "cell_type": "code",
   "execution_count": 30,
   "metadata": {},
   "outputs": [],
   "source": [
    "def load_dataset(path, sep, header):\n",
    "    data = pd.read_csv(path, sep=sep, header=header)\n",
    "\n",
    "    labels = data.iloc[:,0]\n",
    "    features = data.drop(data.columns[0], axis=1)\n",
    "    \n",
    "    if header==None:\n",
    "        # Adjust the column names after dropped the 0th column above\n",
    "        # New column names are 0 (inclusive) to len(features.columns) (exclusive)\n",
    "        new_column_names = list(range(0, len(features.columns)))\n",
    "        features.columns = new_column_names\n",
    "\n",
    "    return features, labels"
   ]
  },
  {
   "cell_type": "code",
   "execution_count": 31,
   "metadata": {},
   "outputs": [
    {
     "data": {
      "text/plain": [
       "(10209, 1)"
      ]
     },
     "execution_count": 31,
     "metadata": {},
     "output_type": "execute_result"
    }
   ],
   "source": [
    "X_test, y_test = load_dataset(path=test_path, sep=',', header=0)\n",
    "X_test.shape"
   ]
  },
  {
   "cell_type": "code",
   "execution_count": 32,
   "metadata": {},
   "outputs": [
    {
     "data": {
      "text/html": [
       "<div>\n",
       "<style scoped>\n",
       "    .dataframe tbody tr th:only-of-type {\n",
       "        vertical-align: middle;\n",
       "    }\n",
       "\n",
       "    .dataframe tbody tr th {\n",
       "        vertical-align: top;\n",
       "    }\n",
       "\n",
       "    .dataframe thead th {\n",
       "        text-align: right;\n",
       "    }\n",
       "</style>\n",
       "<table border=\"1\" class=\"dataframe\">\n",
       "  <thead>\n",
       "    <tr style=\"text-align: right;\">\n",
       "      <th></th>\n",
       "      <th>review_body</th>\n",
       "    </tr>\n",
       "  </thead>\n",
       "  <tbody>\n",
       "    <tr>\n",
       "      <th>0</th>\n",
       "      <td>H&amp;R Block tax software is cheaper than the Tur...</td>\n",
       "    </tr>\n",
       "    <tr>\n",
       "      <th>1</th>\n",
       "      <td>Works fine!</td>\n",
       "    </tr>\n",
       "    <tr>\n",
       "      <th>2</th>\n",
       "      <td>So far so good. Im liking it. Better than avg.</td>\n",
       "    </tr>\n",
       "    <tr>\n",
       "      <th>3</th>\n",
       "      <td>Do Not Waste Your Money.  Unfortunately, I rar...</td>\n",
       "    </tr>\n",
       "    <tr>\n",
       "      <th>4</th>\n",
       "      <td>Download version keeps asking for CD and does ...</td>\n",
       "    </tr>\n",
       "  </tbody>\n",
       "</table>\n",
       "</div>"
      ],
      "text/plain": [
       "                                         review_body\n",
       "0  H&R Block tax software is cheaper than the Tur...\n",
       "1                                        Works fine!\n",
       "2     So far so good. Im liking it. Better than avg.\n",
       "3  Do Not Waste Your Money.  Unfortunately, I rar...\n",
       "4  Download version keeps asking for CD and does ..."
      ]
     },
     "execution_count": 32,
     "metadata": {},
     "output_type": "execute_result"
    }
   ],
   "source": [
    "X_test.head(5)"
   ]
  },
  {
   "cell_type": "code",
   "execution_count": 33,
   "metadata": {},
   "outputs": [
    {
     "data": {
      "text/plain": [
       "(10209,)"
      ]
     },
     "execution_count": 33,
     "metadata": {},
     "output_type": "execute_result"
    }
   ],
   "source": [
    "y_test.shape"
   ]
  },
  {
   "cell_type": "code",
   "execution_count": 34,
   "metadata": {
    "scrolled": true
   },
   "outputs": [
    {
     "data": {
      "text/plain": [
       "0    1\n",
       "1    1\n",
       "2    1\n",
       "3    0\n",
       "4    0\n",
       "Name: is_positive_sentiment, dtype: int64"
      ]
     },
     "execution_count": 34,
     "metadata": {},
     "output_type": "execute_result"
    }
   ],
   "source": [
    "y_test.head(5)"
   ]
  },
  {
   "cell_type": "markdown",
   "metadata": {},
   "source": [
    "## Invoke the Endpoint with our Test Dataset"
   ]
  },
  {
   "cell_type": "code",
   "execution_count": 35,
   "metadata": {},
   "outputs": [
    {
     "data": {
      "text/plain": [
       "'1\\n1\\n1\\n0\\n0\\n1\\n1\\n1\\n1\\n0\\n1\\n1\\n1\\n0\\n1\\n1\\n1\\n1\\n0\\n1\\n1\\n1\\n1\\n1\\n0\\n1\\n1\\n1\\n0\\n0\\n0\\n1\\n0\\n0\\n1\\n1\\n0\\n0\\n1\\n0\\n0\\n1\\n0\\n1\\n1\\n0\\n0\\n1\\n1\\n1\\n1\\n1\\n1\\n0\\n1\\n1\\n1\\n1\\n1\\n1\\n0\\n1\\n0\\n0\\n0\\n1\\n0\\n1\\n0\\n0\\n1\\n1\\n1\\n1\\n1\\n0\\n1\\n1\\n0\\n0\\n1\\n0\\n1\\n1\\n1\\n1\\n1\\n1\\n1\\n1\\n1\\n0\\n1\\n0\\n1\\n1\\n1\\n0\\n0\\n0\\n1\\n1\\n0\\n1\\n1\\n0\\n0\\n1\\n1\\n1\\n0\\n0\\n1\\n1\\n1\\n1\\n1\\n1\\n0\\n1\\n0\\n1\\n0\\n1\\n0\\n1\\n1\\n1\\n0\\n0\\n1\\n1\\n0\\n1\\n1\\n1\\n1\\n0\\n1\\n1\\n1\\n0\\n0\\n1\\n1\\n1\\n1\\n1\\n1\\n0\\n1\\n1\\n1\\n1\\n0\\n1\\n1\\n0\\n0\\n0\\n0\\n1\\n1\\n0\\n1\\n1\\n0\\n0\\n1\\n1\\n1\\n1\\n0\\n0\\n0\\n0\\n1\\n1\\n1\\n1\\n1\\n1\\n0\\n1\\n0\\n1\\n1\\n0\\n1\\n1\\n0\\n0\\n0\\n1\\n1\\n1\\n1\\n1\\n1\\n1\\n0\\n1\\n0\\n0\\n0\\n0\\n0\\n1\\n0\\n1\\n0\\n1\\n1\\n0\\n0\\n1\\n0\\n1\\n1\\n0\\n0\\n1\\n1\\n1\\n1\\n0\\n0\\n1\\n1\\n0\\n1\\n1\\n1\\n1\\n0\\n1\\n1\\n1\\n1\\n0\\n1\\n0\\n1\\n0\\n0\\n1\\n0\\n0\\n1\\n0\\n0\\n0\\n1\\n1\\n1\\n1\\n1\\n0\\n1\\n1\\n1\\n1\\n1\\n1\\n0\\n1\\n1\\n0\\n0\\n0\\n0\\n0\\n1\\n1\\n1\\n1\\n1\\n1\\n0\\n1\\n1\\n0\\n0\\n1\\n0\\n0\\n1\\n1\\n1\\n0\\n1\\n0\\n1\\n1\\n0\\n0\\n1\\n0\\n0\\n1\\n1\\n1\\n0\\n0\\n1\\n1\\n1\\n1\\n0\\n1\\n0\\n1\\n1\\n0\\n1\\n1\\n0\\n1\\n0\\n1\\n1\\n1\\n1\\n1\\n0\\n1\\n1\\n1\\n0\\n0\\n1\\n1\\n1\\n1\\n1\\n1\\n1\\n1\\n1\\n1\\n1\\n1\\n1\\n1\\n1\\n0\\n1\\n0\\n0\\n1\\n1\\n1\\n1\\n0\\n1\\n0\\n0\\n1\\n0\\n1\\n1\\n0\\n1\\n0\\n1\\n1\\n1\\n0\\n1\\n1\\n1\\n1\\n1\\n0\\n1\\n0\\n0\\n0\\n1\\n1\\n1\\n1\\n0\\n1\\n1\\n0\\n0\\n0\\n0\\n1\\n0\\n0\\n1\\n1\\n0\\n0\\n1\\n0\\n1\\n1\\n0\\n0\\n0\\n1\\n0\\n0\\n0\\n1\\n1\\n0\\n0\\n0\\n1\\n0\\n0\\n0\\n0\\n0\\n1\\n1\\n0\\n1\\n1\\n0\\n1\\n0\\n1\\n1\\n0\\n0\\n1\\n0\\n0\\n0\\n0\\n0\\n0\\n1\\n1\\n1\\n0\\n0\\n0\\n1\\n1\\n1\\n1\\n0\\n1\\n0\\n1\\n1\\n1\\n0\\n1\\n0\\n1\\n1\\n1\\n0\\n1\\n1\\n0\\n0\\n1\\n0\\n1\\n0\\n1\\n1\\n1\\n1\\n1\\n1\\n1\\n0\\n0\\n1\\n0\\n1\\n1\\n0\\n0\\n1\\n0\\n0\\n0\\n1\\n0\\n1\\n0\\n1\\n1\\n0\\n0\\n0\\n0\\n0\\n1\\n0\\n1\\n1\\n1\\n1\\n1\\n1\\n0\\n1\\n1\\n0\\n1\\n1\\n1\\n0\\n0\\n0\\n1\\n1\\n1\\n1\\n0\\n0\\n0\\n0\\n0\\n1\\n0\\n1\\n0\\n1\\n1\\n1\\n0\\n1\\n1\\n0\\n1\\n1\\n1\\n0\\n1\\n0\\n1\\n1\\n0\\n0\\n1\\n0\\n1\\n1\\n1\\n1\\n0\\n1\\n1\\n1\\n1\\n0\\n1\\n0\\n0\\n1\\n0\\n1\\n0\\n0\\n1\\n0\\n1\\n1\\n0\\n0\\n1\\n1\\n1\\n1\\n0\\n0\\n1\\n0\\n1\\n0\\n1\\n1\\n1\\n1\\n0\\n1\\n1\\n1\\n1\\n1\\n1\\n1\\n1\\n0\\n1\\n1\\n0\\n0\\n1\\n1\\n1\\n1\\n0\\n1\\n1\\n0\\n1\\n0\\n1\\n1\\n0\\n0\\n1\\n1\\n1\\n1\\n0\\n1\\n0\\n0\\n1\\n1\\n1\\n1\\n1\\n0\\n0\\n0\\n0\\n1\\n1\\n1\\n1\\n1\\n1\\n1\\n1\\n1\\n0\\n1\\n1\\n1\\n0\\n1\\n1\\n1\\n0\\n0\\n1\\n1\\n1\\n1\\n1\\n1\\n1\\n0\\n1\\n1\\n0\\n1\\n0\\n1\\n1\\n1\\n1\\n1\\n1\\n0\\n1\\n1\\n0\\n0\\n1\\n1\\n0\\n0\\n1\\n1\\n0\\n1\\n0\\n1\\n0\\n1\\n0\\n1\\n1\\n0\\n1\\n1\\n0\\n0\\n0\\n0\\n0\\n1\\n0\\n1\\n0\\n1\\n1\\n1\\n1\\n0\\n1\\n0\\n1\\n1\\n0\\n0\\n1\\n0\\n1\\n1\\n1\\n0\\n0\\n1\\n0\\n1\\n1\\n1\\n1\\n0\\n1\\n1\\n1\\n1\\n1\\n0\\n1\\n0\\n1\\n0\\n0\\n1\\n1\\n1\\n1\\n1\\n1\\n1\\n1\\n0\\n0\\n1\\n1\\n1\\n0\\n0\\n1\\n0\\n0\\n1\\n1\\n1\\n0\\n0\\n1\\n1\\n1\\n1\\n1\\n1\\n1\\n1\\n1\\n1\\n1\\n1\\n0\\n1\\n1\\n1\\n1\\n1\\n0\\n0\\n1\\n0\\n1\\n0\\n1\\n1\\n1\\n0\\n1\\n1\\n0\\n0\\n0\\n0\\n0\\n1\\n0\\n1\\n1\\n1\\n0\\n0\\n0\\n0\\n1\\n1\\n1\\n1\\n1\\n1\\n1\\n1\\n1\\n1\\n1\\n0\\n1\\n0\\n0\\n1\\n1\\n0\\n1\\n1\\n0\\n0\\n1\\n1\\n1\\n0\\n0\\n1\\n1\\n1\\n1\\n1\\n1\\n0\\n0\\n1\\n1\\n1\\n0\\n1\\n1\\n0\\n1\\n1\\n1\\n1\\n1\\n0\\n0\\n0\\n1\\n1\\n1\\n1\\n1\\n0\\n1\\n1\\n0\\n1\\n1\\n1\\n1\\n1\\n1\\n0\\n0\\n0\\n1\\n1\\n0\\n1\\n0\\n1\\n1\\n1\\n0\\n0\\n0\\n0\\n1\\n1\\n1\\n0\\n0\\n0\\n1\\n1\\n1\\n0\\n1\\n0\\n0\\n0\\n1\\n0\\n0\\n0\\n1\\n1\\n1\\n0\\n1\\n1\\n1\\n1\\n0\\n1\\n1\\n1\\n1\\n1\\n1\\n1\\n0\\n1\\n0\\n1\\n1\\n0\\n1\\n1\\n1\\n1\\n0\\n0\\n0\\n0\\n1\\n0\\n1\\n1\\n0\\n1\\n0\\n0\\n0\\n1\\n0\\n0\\n0\\n1\\n1\\n1\\n1\\n1\\n0\\n1\\n0\\n0\\n0\\n0\\n1\\n0\\n1\\n0\\n0\\n1\\n1\\n0\\n1\\n1\\n1\\n1\\n1\\n0\\n1\\n1\\n1\\n0\\n1\\n1\\n1\\n1\\n1\\n1\\n1\\n0\\n1\\n1\\n1\\n0\\n0\\n1\\n1\\n0\\n1\\n1\\n0\\n0\\n0\\n1\\n1\\n1\\n0\\n1\\n0\\n0\\n1\\n0\\n0\\n0\\n0\\n1\\n0\\n1\\n1\\n1\\n1\\n1\\n1\\n1\\n1\\n1\\n1\\n1\\n0\\n0\\n1\\n1\\n0\\n0\\n0\\n0\\n0\\n1\\n1\\n1\\n0\\n0\\n1\\n1\\n1\\n1\\n1\\n1\\n0\\n0\\n1\\n1\\n0\\n0\\n0\\n0\\n0\\n0\\n1\\n1\\n1\\n0\\n1\\n1\\n1\\n1\\n1\\n1\\n1\\n0\\n1\\n1\\n1\\n0\\n0\\n0\\n1\\n1\\n0\\n1\\n1\\n0\\n0\\n0\\n1\\n1\\n0\\n0\\n1\\n1\\n0\\n1\\n1\\n0\\n0\\n1\\n1\\n1\\n1\\n1\\n1\\n1\\n1\\n0\\n1\\n0\\n1\\n1\\n0\\n1\\n1\\n1\\n1\\n1\\n1\\n1\\n0\\n0\\n0\\n1\\n0\\n0\\n1\\n1\\n1\\n1\\n0\\n0\\n1\\n0\\n1\\n0\\n0\\n0\\n1\\n0\\n0\\n1\\n1\\n1\\n1\\n1\\n1\\n0\\n0\\n1\\n0\\n1\\n0\\n1\\n1\\n1\\n0\\n1\\n1\\n0\\n0\\n1\\n0\\n0\\n0\\n0\\n0\\n1\\n1\\n1\\n0\\n0\\n1\\n0\\n1\\n1\\n0\\n0\\n1\\n1\\n1\\n1\\n1\\n0\\n1\\n0\\n1\\n1\\n1\\n0\\n0\\n0\\n1\\n1\\n1\\n1\\n1\\n1\\n1\\n1\\n1\\n1\\n0\\n1\\n1\\n0\\n1\\n1\\n0\\n0\\n1\\n1\\n0\\n1\\n0\\n0\\n1\\n1\\n1\\n0\\n0\\n0\\n1\\n1\\n0\\n1\\n1\\n0\\n1\\n1\\n1\\n1\\n1\\n0\\n1\\n1\\n1\\n0\\n0\\n1\\n0\\n0\\n1\\n1\\n1\\n1\\n1\\n1\\n0\\n1\\n0\\n1\\n1\\n0\\n1\\n1\\n1\\n1\\n1\\n0\\n1\\n0\\n0\\n1\\n1\\n0\\n1\\n1\\n1\\n1\\n0\\n1\\n1\\n1\\n0\\n0\\n1\\n1\\n0\\n0\\n0\\n1\\n0\\n1\\n0\\n0\\n1\\n1\\n0\\n0\\n0\\n0\\n0\\n1\\n0\\n0\\n1\\n1\\n1\\n1\\n0\\n1\\n0\\n0\\n0\\n0\\n0\\n1\\n1\\n0\\n1\\n0\\n1\\n0\\n0\\n1\\n1\\n1\\n0\\n1\\n1\\n1\\n1\\n1\\n0\\n1\\n1\\n1\\n1\\n1\\n1\\n1\\n0\\n1\\n0\\n0\\n1\\n1\\n0\\n1\\n1\\n1\\n0\\n1\\n1\\n1\\n0\\n1\\n1\\n0\\n1\\n0\\n1\\n1\\n0\\n1\\n1\\n1\\n1\\n1\\n0\\n1\\n1\\n1\\n1\\n1\\n0\\n1\\n1\\n1\\n1\\n1\\n0\\n0\\n0\\n1\\n0\\n1\\n1\\n0\\n0\\n1\\n0\\n0\\n1\\n1\\n0\\n1\\n1\\n0\\n1\\n0\\n0\\n1\\n1\\n0\\n1\\n1\\n0\\n1\\n1\\n1\\n1\\n0\\n1\\n1\\n1\\n1\\n1\\n1\\n1\\n1\\n1\\n0\\n0\\n1\\n1\\n1\\n0\\n0\\n1\\n0\\n1\\n1\\n1\\n1\\n1\\n0\\n0\\n1\\n1\\n0\\n0\\n1\\n0\\n1\\n0\\n1\\n0\\n1\\n1\\n1\\n0\\n1\\n0\\n0\\n1\\n1\\n0\\n1\\n1\\n1\\n0\\n1\\n0\\n1\\n1\\n1\\n1\\n0\\n0\\n1\\n0\\n1\\n0\\n0\\n0\\n1\\n1\\n0\\n1\\n1\\n1\\n1\\n1\\n1\\n1\\n1\\n1\\n1\\n0\\n1\\n0\\n1\\n0\\n1\\n1\\n1\\n0\\n1\\n0\\n0\\n0\\n1\\n1\\n1\\n0\\n0\\n1\\n1\\n0\\n1\\n0\\n0\\n1\\n1\\n0\\n1\\n1\\n0\\n1\\n0\\n1\\n1\\n1\\n1\\n1\\n1\\n1\\n1\\n1\\n1\\n0\\n1\\n1\\n0\\n0\\n0\\n0\\n1\\n1\\n0\\n1\\n1\\n1\\n0\\n1\\n0\\n1\\n1\\n1\\n0\\n1\\n0\\n1\\n1\\n0\\n1\\n0\\n0\\n0\\n1\\n1\\n1\\n1\\n0\\n1\\n0\\n0\\n0\\n1\\n0\\n1\\n0\\n0\\n0\\n1\\n1\\n1\\n1\\n0\\n1\\n1\\n0\\n1\\n1\\n1\\n1\\n1\\n0\\n0\\n1\\n1\\n1\\n0\\n1\\n1\\n1\\n0\\n1\\n0\\n0\\n1\\n0\\n0\\n0\\n0\\n1\\n1\\n0\\n0\\n1\\n0\\n1\\n1\\n0\\n1\\n1\\n1\\n1\\n1\\n1\\n1\\n0\\n0\\n1\\n1\\n1\\n1\\n1\\n1\\n1\\n1\\n1\\n0\\n1\\n1\\n1\\n0\\n1\\n1\\n1\\n0\\n0\\n1\\n1\\n0\\n1\\n1\\n0\\n1\\n0\\n0\\n1\\n1\\n1\\n1\\n1\\n1\\n1\\n1\\n1\\n1\\n1\\n1\\n1\\n1\\n1\\n0\\n1\\n1\\n1\\n1\\n0\\n1\\n1\\n0\\n0\\n1\\n0\\n0\\n1\\n1\\n1\\n1\\n1\\n1\\n1\\n1\\n0\\n1\\n1\\n1\\n1\\n1\\n1\\n1\\n0\\n0\\n0\\n1\\n1\\n1\\n0\\n1\\n0\\n1\\n1\\n1\\n1\\n0\\n0\\n0\\n0\\n1\\n0\\n0\\n0\\n1\\n0\\n1\\n1\\n1\\n0\\n0\\n0\\n1\\n0\\n1\\n1\\n1\\n0\\n1\\n0\\n1\\n1\\n1\\n0\\n0\\n0\\n1\\n0\\n0\\n1\\n1\\n1\\n1\\n1\\n1\\n1\\n1\\n1\\n1\\n0\\n1\\n1\\n1\\n1\\n1\\n1\\n0\\n1\\n0\\n1\\n1\\n1\\n0\\n1\\n0\\n1\\n1\\n0\\n1\\n0\\n1\\n0\\n1\\n0\\n1\\n1\\n1\\n1\\n0\\n0\\n1\\n0\\n0\\n0\\n1\\n1\\n0\\n1\\n0\\n0\\n0\\n1\\n0\\n0\\n1\\n1\\n1\\n1\\n0\\n1\\n0\\n0\\n0\\n1\\n1\\n1\\n0\\n0\\n0\\n1\\n1\\n1\\n1\\n0\\n1\\n0\\n1\\n1\\n1\\n1\\n0\\n0\\n1\\n1\\n1\\n1\\n1\\n1\\n1\\n0\\n0\\n1\\n0\\n1\\n1\\n0\\n1\\n1\\n1\\n0\\n1\\n1\\n1\\n0\\n1\\n0\\n1\\n0\\n0\\n0\\n1\\n1\\n1\\n1\\n0\\n1\\n0\\n0\\n0\\n1\\n1\\n1\\n1\\n1\\n0\\n1\\n1\\n1\\n1\\n1\\n0\\n1\\n1\\n0\\n0\\n0\\n0\\n1\\n1\\n1\\n0\\n1\\n0\\n1\\n0\\n0\\n0\\n1\\n1\\n0\\n0\\n1\\n1\\n0\\n1\\n0\\n1\\n0\\n0\\n1\\n1\\n1\\n1\\n1\\n0\\n1\\n0\\n1\\n0\\n1\\n1\\n1\\n1\\n1\\n0\\n1\\n1\\n1\\n0\\n1\\n1\\n1\\n1\\n0\\n1\\n0\\n1\\n1\\n0\\n0\\n1\\n0\\n1\\n0\\n1\\n1\\n1\\n1\\n1\\n1\\n1\\n1\\n1\\n1\\n0\\n0\\n1\\n1\\n1\\n0\\n1\\n0\\n1\\n0\\n1\\n1\\n0\\n1\\n0\\n0\\n1\\n0\\n1\\n0\\n0\\n0\\n0\\n0\\n1\\n0\\n1\\n1\\n0\\n1\\n0\\n1\\n0\\n0\\n0\\n1\\n1\\n1\\n1\\n1\\n1\\n1\\n0\\n0\\n0\\n1\\n1\\n1\\n0\\n1\\n1\\n1\\n0\\n1\\n1\\n1\\n1\\n1\\n1\\n0\\n1\\n0\\n0\\n1\\n1\\n0\\n1\\n1\\n1\\n0\\n1\\n1\\n1\\n0\\n1\\n1\\n1\\n1\\n1\\n1\\n1\\n1\\n1\\n1\\n1\\n0\\n0\\n1\\n0\\n0\\n1\\n1\\n0\\n0\\n1\\n1\\n1\\n1\\n1\\n1\\n0\\n1\\n1\\n1\\n0\\n1\\n1\\n1\\n1\\n1\\n1\\n1\\n0\\n1\\n1\\n1\\n1\\n1\\n1\\n0\\n1\\n1\\n0\\n0\\n1\\n0\\n0\\n1\\n1\\n1\\n1\\n0\\n1\\n1\\n1\\n1\\n1\\n0\\n0\\n1\\n0\\n1\\n0\\n0\\n0\\n1\\n0\\n1\\n1\\n0\\n1\\n1\\n1\\n0\\n0\\n1\\n0\\n1\\n0\\n0\\n1\\n1\\n1\\n1\\n1\\n1\\n1\\n1\\n0\\n1\\n1\\n0\\n0\\n1\\n0\\n1\\n1\\n1\\n0\\n1\\n0\\n1\\n0\\n0\\n1\\n1\\n1\\n1\\n0\\n1\\n1\\n1\\n1\\n0\\n1\\n0\\n0\\n0\\n1\\n0\\n0\\n1\\n1\\n1\\n1\\n1\\n0\\n1\\n0\\n1\\n0\\n0\\n1\\n0\\n0\\n1\\n0\\n1\\n0\\n0\\n1\\n0\\n0\\n0\\n1\\n1\\n0\\n1\\n1\\n1\\n1\\n0\\n0\\n1\\n1\\n0\\n1\\n1\\n1\\n1\\n0\\n0\\n1\\n1\\n0\\n1\\n0\\n0\\n1\\n0\\n0\\n1\\n1\\n0\\n1\\n1\\n1\\n1\\n1\\n1\\n1\\n1\\n0\\n1\\n0\\n1\\n1\\n1\\n0\\n1\\n1\\n0\\n1\\n1\\n1\\n0\\n1\\n1\\n0\\n1\\n1\\n1\\n1\\n0\\n1\\n1\\n0\\n1\\n1\\n1\\n1\\n0\\n1\\n1\\n0\\n1\\n1\\n1\\n1\\n0\\n0\\n1\\n1\\n1\\n0\\n0\\n0\\n1\\n1\\n0\\n1\\n0\\n0\\n0\\n0\\n1\\n1\\n1\\n0\\n1\\n0\\n0\\n0\\n1\\n1\\n0\\n1\\n0\\n1\\n0\\n1\\n1\\n0\\n0\\n1\\n0\\n1\\n1\\n1\\n0\\n1\\n1\\n1\\n1\\n1\\n1\\n0\\n1\\n1\\n0\\n0\\n0\\n0\\n0\\n1\\n1\\n0\\n0\\n0\\n0\\n1\\n0\\n1\\n1\\n0\\n0\\n0\\n1\\n1\\n1\\n0\\n1\\n0\\n1\\n0\\n1\\n1\\n0\\n1\\n1\\n1\\n1\\n0\\n0\\n0\\n0\\n1\\n1\\n0\\n1\\n0\\n1\\n1\\n0\\n1\\n1\\n1\\n0\\n0\\n1\\n0\\n1\\n1\\n0\\n1\\n1\\n1\\n1\\n1\\n0\\n1\\n1\\n0\\n1\\n0\\n1\\n0\\n0\\n1\\n0\\n1\\n1\\n1\\n0\\n1\\n1\\n0\\n1\\n0\\n0\\n0\\n0\\n1\\n0\\n1\\n0\\n1\\n1\\n0\\n1\\n0\\n0\\n0\\n1\\n1\\n1\\n0\\n1\\n1\\n1\\n0\\n0\\n1\\n1\\n1\\n0\\n0\\n1\\n1\\n1\\n0\\n0\\n0\\n1\\n1\\n1\\n1\\n0\\n1\\n1\\n1\\n1\\n0\\n1\\n0\\n1\\n1\\n0\\n1\\n1\\n0\\n1\\n1\\n1\\n0\\n1\\n1\\n1\\n1\\n1\\n0\\n1\\n0\\n1\\n0\\n0\\n1\\n1\\n1\\n0\\n1\\n1\\n1\\n1\\n1\\n1\\n1\\n0\\n1\\n1\\n0\\n0\\n1\\n0\\n1\\n0\\n0\\n0\\n1\\n0\\n1\\n1\\n1\\n1\\n1\\n0\\n1\\n0\\n0\\n1\\n1\\n1\\n0\\n1\\n0\\n1\\n0\\n1\\n0\\n1\\n1\\n1\\n1\\n1\\n0\\n1\\n0\\n1\\n1\\n1\\n1\\n1\\n0\\n0\\n1\\n0\\n1\\n1\\n1\\n1\\n0\\n1\\n1\\n0\\n1\\n1\\n0\\n0\\n1\\n0\\n1\\n1\\n1\\n0\\n1\\n1\\n0\\n1\\n1\\n1\\n1\\n1\\n1\\n1\\n0\\n1\\n1\\n1\\n1\\n1\\n1\\n1\\n0\\n0\\n0\\n0\\n1\\n1\\n1\\n1\\n1\\n0\\n0\\n1\\n0\\n0\\n0\\n0\\n1\\n0\\n0\\n0\\n0\\n1\\n0\\n1\\n1\\n0\\n0\\n0\\n1\\n0\\n0\\n1\\n0\\n1\\n1\\n0\\n1\\n1\\n1\\n1\\n0\\n1\\n0\\n0\\n0\\n1\\n1\\n0\\n1\\n1\\n1\\n1\\n1\\n1\\n1\\n1\\n1\\n1\\n1\\n1\\n0\\n1\\n0\\n0\\n1\\n1\\n0\\n0\\n0\\n0\\n0\\n1\\n1\\n1\\n0\\n1\\n1\\n1\\n1\\n1\\n1\\n1\\n1\\n0\\n1\\n0\\n1\\n0\\n0\\n0\\n0\\n1\\n0\\n1\\n1\\n1\\n1\\n1\\n1\\n0\\n1\\n0\\n0\\n1\\n0\\n1\\n0\\n0\\n1\\n1\\n1\\n0\\n1\\n1\\n1\\n1\\n0\\n1\\n1\\n0\\n0\\n1\\n1\\n1\\n0\\n0\\n0\\n1\\n1\\n0\\n1\\n0\\n1\\n1\\n1\\n1\\n1\\n0\\n1\\n0\\n1\\n0\\n1\\n1\\n0\\n0\\n0\\n0\\n0\\n1\\n1\\n0\\n1\\n0\\n0\\n1\\n0\\n1\\n0\\n1\\n1\\n1\\n0\\n1\\n0\\n1\\n0\\n1\\n0\\n1\\n0\\n1\\n1\\n0\\n0\\n0\\n1\\n1\\n1\\n0\\n0\\n1\\n0\\n1\\n0\\n0\\n0\\n0\\n0\\n0\\n0\\n0\\n1\\n1\\n0\\n1\\n1\\n0\\n0\\n0\\n1\\n0\\n0\\n1\\n0\\n1\\n0\\n1\\n1\\n0\\n1\\n1\\n0\\n1\\n1\\n0\\n0\\n1\\n1\\n1\\n0\\n0\\n1\\n1\\n1\\n0\\n1\\n0\\n1\\n0\\n1\\n1\\n0\\n1\\n0\\n1\\n0\\n1\\n0\\n0\\n1\\n1\\n1\\n1\\n1\\n1\\n1\\n0\\n0\\n1\\n1\\n0\\n0\\n1\\n0\\n0\\n1\\n0\\n0\\n0\\n0\\n1\\n1\\n1\\n1\\n1\\n0\\n1\\n1\\n1\\n1\\n1\\n0\\n1\\n1\\n0\\n1\\n1\\n0\\n0\\n0\\n0\\n1\\n0\\n1\\n0\\n1\\n0\\n1\\n1\\n0\\n0\\n0\\n1\\n1\\n1\\n1\\n1\\n1\\n0\\n1\\n1\\n0\\n1\\n1\\n0\\n0\\n0\\n1\\n0\\n1\\n1\\n1\\n1\\n1\\n1\\n1\\n1\\n1\\n1\\n0\\n1\\n0\\n0\\n0\\n1\\n1\\n1\\n1\\n1\\n1\\n0\\n1\\n0\\n0\\n1\\n1\\n1\\n0\\n1\\n1\\n1\\n1\\n1\\n1\\n0\\n1\\n1\\n1\\n0\\n1\\n1\\n1\\n0\\n1\\n1\\n0\\n0\\n0\\n1\\n0\\n1\\n0\\n0\\n1\\n0\\n0\\n1\\n1\\n0\\n1\\n0\\n1\\n1\\n0\\n1\\n1\\n1\\n0\\n0\\n1\\n0\\n1\\n0\\n0\\n1\\n0\\n1\\n0\\n1\\n1\\n1\\n1\\n0\\n1\\n1\\n1\\n0\\n0\\n0\\n0\\n1\\n0\\n1\\n0\\n1\\n1\\n1\\n1\\n0\\n1\\n1\\n1\\n1\\n1\\n1\\n1\\n0\\n0\\n0\\n1\\n0\\n1\\n1\\n1\\n1\\n0\\n1\\n1\\n1\\n1\\n0\\n1\\n1\\n1\\n0\\n0\\n1\\n1\\n1\\n1\\n0\\n0\\n0\\n0\\n1\\n0\\n0\\n1\\n0\\n0\\n1\\n1\\n0\\n1\\n1\\n1\\n0\\n0\\n1\\n0\\n1\\n1\\n0\\n0\\n1\\n1\\n1\\n0\\n0\\n1\\n0\\n1\\n1\\n1\\n1\\n1\\n1\\n0\\n0\\n1\\n0\\n1\\n1\\n0\\n0\\n1\\n0\\n1\\n0\\n1\\n0\\n0\\n1\\n0\\n1\\n1\\n0\\n1\\n1\\n1\\n1\\n1\\n1\\n1\\n1\\n1\\n1\\n0\\n1\\n0\\n1\\n0\\n1\\n1\\n1\\n0\\n1\\n1\\n1\\n0\\n0\\n0\\n0\\n1\\n0\\n0\\n0\\n1\\n0\\n1\\n1\\n0\\n1\\n1\\n1\\n0\\n0\\n1\\n1\\n0\\n1\\n0\\n1\\n1\\n0\\n0\\n0\\n0\\n1\\n1\\n0\\n1\\n0\\n0\\n1\\n0\\n1\\n1\\n1\\n1\\n1\\n0\\n1\\n0\\n1\\n0\\n0\\n1\\n1\\n0\\n1\\n1\\n1\\n1\\n1\\n0\\n1\\n1\\n1\\n1\\n0\\n1\\n1\\n1\\n1\\n1\\n1\\n1\\n0\\n0\\n1\\n0\\n1\\n1\\n0\\n0\\n0\\n1\\n0\\n1\\n1\\n0\\n1\\n0\\n1\\n1\\n0\\n1\\n1\\n1\\n0\\n1\\n1\\n0\\n0\\n1\\n1\\n0\\n1\\n0\\n0\\n0\\n1\\n0\\n1\\n1\\n1\\n1\\n1\\n0\\n0\\n1\\n0\\n1\\n1\\n1\\n1\\n1\\n1\\n1\\n1\\n1\\n0\\n0\\n1\\n0\\n1\\n0\\n0\\n0\\n1\\n1\\n1\\n1\\n1\\n1\\n1\\n1\\n0\\n1\\n1\\n1\\n1\\n1\\n0\\n1\\n1\\n0\\n0\\n0\\n0\\n1\\n0\\n1\\n1\\n1\\n1\\n0\\n1\\n1\\n1\\n0\\n1\\n0\\n1\\n0\\n0\\n1\\n0\\n0\\n1\\n0\\n1\\n0\\n0\\n0\\n1\\n1\\n0\\n1\\n1\\n1\\n0\\n1\\n1\\n1\\n1\\n0\\n0\\n0\\n0\\n0\\n0\\n1\\n1\\n0\\n0\\n1\\n1\\n1\\n1\\n1\\n0\\n0\\n1\\n0\\n1\\n0\\n0\\n0\\n0\\n1\\n0\\n1\\n1\\n1\\n1\\n0\\n0\\n1\\n0\\n1\\n0\\n1\\n0\\n1\\n1\\n0\\n1\\n1\\n0\\n0\\n0\\n1\\n0\\n0\\n0\\n1\\n0\\n0\\n0\\n1\\n0\\n0\\n1\\n1\\n0\\n0\\n1\\n0\\n0\\n1\\n1\\n0\\n1\\n1\\n0\\n1\\n1\\n1\\n1\\n1\\n1\\n0\\n0\\n0\\n1\\n0\\n1\\n1\\n1\\n1\\n1\\n1\\n0\\n1\\n0\\n0\\n0\\n0\\n0\\n0\\n0\\n0\\n0\\n0\\n1\\n0\\n0\\n0\\n1\\n0\\n1\\n1\\n0\\n0\\n1\\n1\\n1\\n0\\n1\\n0\\n1\\n0\\n0\\n0\\n1\\n0\\n1\\n1\\n1\\n0\\n1\\n0\\n0\\n0\\n1\\n1\\n1\\n1\\n0\\n1\\n1\\n1\\n1\\n1\\n1\\n1\\n1\\n1\\n1\\n1\\n1\\n0\\n1\\n1\\n0\\n0\\n1\\n1\\n1\\n0\\n0\\n0\\n1\\n0\\n1\\n0\\n0\\n1\\n0\\n0\\n0\\n1\\n1\\n0\\n1\\n1\\n0\\n1\\n0\\n1\\n1\\n1\\n1\\n1\\n0\\n0\\n0\\n1\\n1\\n1\\n0\\n1\\n0\\n1\\n1\\n1\\n1\\n1\\n1\\n1\\n1\\n0\\n1\\n1\\n0\\n0\\n0\\n1\\n1\\n1\\n0\\n1\\n1\\n1\\n1\\n1\\n1\\n1\\n1\\n1\\n0\\n1\\n0\\n1\\n0\\n1\\n0\\n0\\n0\\n0\\n1\\n1\\n1\\n1\\n1\\n1\\n1\\n0\\n0\\n0\\n1\\n0\\n0\\n1\\n1\\n1\\n0\\n1\\n0\\n1\\n1\\n0\\n0\\n1\\n0\\n1\\n0\\n0\\n1\\n1\\n0\\n0\\n0\\n0\\n1\\n1\\n1\\n1\\n1\\n0\\n0\\n1\\n1\\n0\\n1\\n0\\n1\\n0\\n1\\n0\\n1\\n1\\n0\\n0\\n0\\n0\\n1\\n1\\n0\\n1\\n1\\n1\\n1\\n1\\n1\\n1\\n1\\n1\\n0\\n0\\n1\\n0\\n0\\n0\\n1\\n0\\n0\\n0\\n0\\n1\\n1\\n1\\n0\\n1\\n1\\n1\\n1\\n0\\n1\\n1\\n1\\n1\\n1\\n1\\n0\\n1\\n0\\n0\\n0\\n0\\n0\\n1\\n1\\n1\\n0\\n0\\n0\\n0\\n1\\n0\\n1\\n1\\n1\\n1\\n1\\n1\\n1\\n1\\n0\\n1\\n1\\n1\\n0\\n0\\n1\\n1\\n0\\n0\\n1\\n1\\n0\\n1\\n0\\n0\\n1\\n1\\n1\\n1\\n1\\n1\\n1\\n1\\n1\\n0\\n0\\n0\\n1\\n0\\n1\\n1\\n0\\n1\\n0\\n1\\n1\\n0\\n0\\n1\\n1\\n1\\n1\\n1\\n1\\n1\\n1\\n1\\n0\\n0\\n1\\n0\\n1\\n1\\n0\\n0\\n1\\n0\\n1\\n1\\n1\\n0\\n0\\n0\\n0\\n0\\n0\\n0\\n1\\n1\\n1\\n1\\n1\\n1\\n0\\n0\\n0\\n1\\n1\\n1\\n1\\n0\\n0\\n0\\n0\\n0\\n0\\n1\\n0\\n0\\n1\\n0\\n0\\n0\\n0\\n0\\n1\\n1\\n0\\n1\\n1\\n1\\n1\\n1\\n0\\n1\\n1\\n1\\n1\\n0\\n0\\n1\\n1\\n1\\n0\\n1\\n0\\n1\\n1\\n0\\n1\\n1\\n0\\n1\\n0\\n1\\n1\\n0\\n1\\n1\\n1\\n1\\n1\\n1\\n1\\n0\\n1\\n0\\n0\\n0\\n1\\n0\\n1\\n1\\n1\\n1\\n1\\n1\\n1\\n0\\n1\\n1\\n1\\n1\\n1\\n0\\n1\\n0\\n1\\n0\\n1\\n1\\n1\\n0\\n0\\n1\\n0\\n1\\n1\\n1\\n1\\n1\\n0\\n1\\n1\\n0\\n0\\n1\\n0\\n0\\n1\\n1\\n1\\n1\\n1\\n0\\n0\\n0\\n1\\n0\\n0\\n1\\n1\\n1\\n1\\n1\\n1\\n0\\n0\\n0\\n1\\n1\\n1\\n1\\n0\\n1\\n1\\n1\\n1\\n1\\n0\\n0\\n0\\n1\\n1\\n1\\n0\\n1\\n0\\n1\\n0\\n1\\n1\\n0\\n1\\n1\\n1\\n0\\n1\\n0\\n0\\n0\\n1\\n0\\n1\\n1\\n1\\n1\\n1\\n1\\n1\\n1\\n1\\n1\\n1\\n1\\n1\\n0\\n1\\n1\\n1\\n1\\n1\\n1\\n0\\n0\\n1\\n1\\n1\\n1\\n1\\n1\\n1\\n0\\n1\\n0\\n0\\n1\\n0\\n0\\n1\\n1\\n1\\n1\\n1\\n1\\n1\\n0\\n0\\n1\\n1\\n0\\n1\\n1\\n1\\n1\\n1\\n0\\n1\\n1\\n1\\n1\\n1\\n1\\n0\\n0\\n0\\n1\\n1\\n0\\n1\\n1\\n1\\n1\\n0\\n1\\n1\\n1\\n0\\n0\\n1\\n1\\n1\\n0\\n1\\n0\\n1\\n1\\n1\\n1\\n0\\n1\\n0\\n1\\n0\\n1\\n1\\n1\\n1\\n1\\n1\\n1\\n0\\n0\\n0\\n1\\n1\\n1\\n1\\n0\\n1\\n1\\n0\\n1\\n1\\n1\\n0\\n0\\n1\\n1\\n1\\n0\\n0\\n0\\n1\\n1\\n1\\n1\\n1\\n0\\n1\\n1\\n0\\n1\\n0\\n0\\n0\\n0\\n1\\n1\\n1\\n1\\n1\\n1\\n0\\n0\\n0\\n0\\n0\\n1\\n1\\n1\\n1\\n1\\n0\\n1\\n1\\n1\\n1\\n1\\n1\\n0\\n1\\n1\\n0\\n1\\n1\\n1\\n1\\n1\\n1\\n1\\n1\\n1\\n0\\n1\\n1\\n0\\n0\\n1\\n0\\n0\\n0\\n0\\n0\\n1\\n0\\n1\\n1\\n0\\n0\\n1\\n1\\n1\\n1\\n0\\n0\\n1\\n0\\n1\\n0\\n1\\n0\\n0\\n1\\n0\\n0\\n1\\n0\\n1\\n1\\n0\\n1\\n0\\n1\\n1\\n1\\n1\\n1\\n1\\n0\\n0\\n1\\n1\\n1\\n1\\n1\\n0\\n1\\n1\\n1\\n0\\n1\\n0\\n0\\n1\\n1\\n0\\n1\\n1\\n1\\n0\\n1\\n1\\n1\\n0\\n0\\n0\\n0\\n0\\n1\\n0\\n1\\n0\\n1\\n1\\n1\\n0\\n1\\n1\\n1\\n1\\n0\\n0\\n1\\n1\\n1\\n0\\n1\\n0\\n0\\n0\\n1\\n0\\n1\\n1\\n0\\n1\\n1\\n0\\n1\\n0\\n0\\n1\\n0\\n1\\n0\\n0\\n0\\n1\\n0\\n1\\n1\\n0\\n1\\n0\\n1\\n1\\n1\\n0\\n1\\n1\\n1\\n1\\n1\\n0\\n0\\n1\\n0\\n1\\n0\\n0\\n0\\n0\\n0\\n1\\n0\\n1\\n1\\n0\\n1\\n0\\n1\\n1\\n1\\n1\\n0\\n0\\n0\\n0\\n1\\n1\\n0\\n0\\n0\\n1\\n1\\n0\\n0\\n0\\n1\\n1\\n0\\n1\\n0\\n0\\n1\\n1\\n1\\n0\\n0\\n0\\n1\\n0\\n1\\n0\\n1\\n1\\n1\\n0\\n1\\n0\\n1\\n1\\n0\\n1\\n1\\n1\\n0\\n1\\n0\\n0\\n1\\n1\\n0\\n1\\n1\\n1\\n1\\n1\\n0\\n0\\n1\\n1\\n0\\n1\\n1\\n1\\n1\\n0\\n1\\n0\\n1\\n0\\n1\\n1\\n0\\n1\\n1\\n1\\n0\\n1\\n1\\n0\\n1\\n1\\n1\\n1\\n1\\n1\\n1\\n0\\n1\\n1\\n0\\n0\\n1\\n1\\n1\\n0\\n1\\n1\\n1\\n1\\n1\\n1\\n1\\n1\\n0\\n1\\n1\\n1\\n1\\n1\\n1\\n1\\n1\\n1\\n1\\n0\\n1\\n1\\n1\\n0\\n1\\n1\\n1\\n1\\n1\\n0\\n1\\n1\\n0\\n1\\n1\\n0\\n1\\n1\\n1\\n0\\n1\\n0\\n1\\n0\\n0\\n1\\n0\\n1\\n1\\n1\\n1\\n0\\n1\\n1\\n0\\n1\\n1\\n1\\n1\\n1\\n1\\n0\\n1\\n1\\n1\\n0\\n1\\n0\\n1\\n1\\n1\\n1\\n0\\n1\\n1\\n0\\n1\\n0\\n1\\n1\\n0\\n1\\n1\\n0\\n0\\n0\\n0\\n1\\n1\\n1\\n1\\n1\\n1\\n0\\n1\\n0\\n0\\n1\\n1\\n0\\n1\\n1\\n1\\n1\\n1\\n0\\n0\\n1\\n1\\n1\\n1\\n1\\n0\\n1\\n0\\n0\\n1\\n1\\n1\\n1\\n0\\n1\\n0\\n1\\n1\\n1\\n0\\n1\\n0\\n0\\n1\\n1\\n0\\n1\\n1\\n1\\n0\\n1\\n0\\n1\\n0\\n0\\n1\\n1\\n0\\n1\\n1\\n0\\n1\\n1\\n0\\n1\\n0\\n1\\n0\\n0\\n0\\n1\\n1\\n1\\n1\\n1\\n0\\n1\\n0\\n1\\n1\\n0\\n1\\n1\\n1\\n1\\n0\\n1\\n0\\n0\\n0\\n1\\n1\\n0\\n1\\n0\\n1\\n1\\n0\\n0\\n1\\n1\\n1\\n0\\n0\\n1\\n1\\n1\\n1\\n1\\n1\\n1\\n0\\n1\\n0\\n0\\n0\\n1\\n0\\n1\\n1\\n0\\n1\\n0\\n1\\n0\\n0\\n0\\n1\\n0\\n0\\n1\\n0\\n1\\n0\\n1\\n0\\n0\\n1\\n1\\n0\\n1\\n0\\n1\\n1\\n1\\n0\\n1\\n1\\n1\\n1\\n1\\n1\\n0\\n0\\n1\\n1\\n1\\n0\\n0\\n1\\n1\\n1\\n1\\n1\\n1\\n1\\n0\\n1\\n1\\n0\\n1\\n1\\n1\\n1\\n0\\n1\\n1\\n0\\n1\\n1\\n1\\n1\\n1\\n1\\n1\\n0\\n1\\n0\\n1\\n1\\n1\\n1\\n0\\n1\\n1\\n0\\n0\\n0\\n0\\n1\\n1\\n1\\n1\\n1\\n1\\n0\\n0\\n1\\n1\\n0\\n0\\n1\\n0\\n1\\n1\\n1\\n1\\n0\\n0\\n1\\n0\\n0\\n1\\n1\\n1\\n1\\n1\\n1\\n1\\n1\\n0\\n1\\n0\\n1\\n1\\n0\\n0\\n0\\n0\\n1\\n0\\n1\\n1\\n0\\n0\\n1\\n0\\n1\\n1\\n0\\n0\\n0\\n1\\n1\\n1\\n1\\n0\\n1\\n1\\n1\\n1\\n1\\n1\\n1\\n0\\n1\\n0\\n0\\n1\\n1\\n0\\n1\\n1\\n0\\n1\\n1\\n0\\n1\\n0\\n1\\n0\\n0\\n1\\n1\\n1\\n1\\n0\\n0\\n0\\n1\\n0\\n0\\n1\\n1\\n0\\n1\\n1\\n1\\n1\\n1\\n1\\n0\\n0\\n0\\n1\\n0\\n0\\n0\\n1\\n1\\n1\\n1\\n1\\n0\\n1\\n1\\n0\\n0\\n1\\n1\\n1\\n1\\n0\\n1\\n0\\n1\\n1\\n0\\n1\\n1\\n1\\n1\\n0\\n1\\n1\\n0\\n0\\n1\\n1\\n1\\n1\\n0\\n1\\n1\\n0\\n0\\n0\\n1\\n1\\n1\\n1\\n1\\n1\\n0\\n0\\n0\\n0\\n1\\n0\\n1\\n1\\n0\\n0\\n1\\n1\\n0\\n1\\n0\\n0\\n0\\n0\\n0\\n0\\n1\\n0\\n0\\n1\\n0\\n1\\n1\\n1\\n0\\n1\\n1\\n1\\n1\\n1\\n1\\n0\\n1\\n1\\n1\\n1\\n0\\n0\\n1\\n1\\n0\\n1\\n0\\n0\\n1\\n0\\n0\\n1\\n0\\n0\\n1\\n0\\n1\\n0\\n1\\n1\\n0\\n1\\n0\\n1\\n1\\n1\\n1\\n1\\n0\\n1\\n1\\n1\\n1\\n1\\n0\\n1\\n0\\n1\\n0\\n1\\n1\\n0\\n1\\n1\\n1\\n1\\n0\\n1\\n1\\n0\\n1\\n1\\n0\\n0\\n1\\n0\\n0\\n1\\n0\\n1\\n1\\n1\\n1\\n1\\n1\\n0\\n0\\n1\\n1\\n0\\n1\\n1\\n0\\n1\\n1\\n1\\n1\\n1\\n0\\n1\\n0\\n0\\n1\\n1\\n1\\n1\\n1\\n1\\n1\\n1\\n0\\n1\\n0\\n1\\n1\\n1\\n1\\n1\\n1\\n1\\n1\\n0\\n1\\n0\\n1\\n1\\n1\\n1\\n1\\n0\\n1\\n0\\n1\\n1\\n0\\n0\\n1\\n1\\n1\\n1\\n1\\n0\\n0\\n0\\n0\\n1\\n1\\n1\\n1\\n1\\n1\\n1\\n0\\n0\\n0\\n1\\n1\\n1\\n1\\n0\\n1\\n0\\n0\\n0\\n1\\n0\\n0\\n0\\n1\\n1\\n0\\n1\\n0\\n0\\n0\\n1\\n0\\n1\\n0\\n0\\n1\\n1\\n1\\n1\\n1\\n1\\n0\\n1\\n0\\n1\\n1\\n1\\n0\\n0\\n1\\n1\\n1\\n0\\n0\\n1\\n1\\n1\\n1\\n0\\n0\\n0\\n1\\n1\\n1\\n0\\n0\\n1\\n1\\n0\\n0\\n1\\n1\\n0\\n1\\n1\\n1\\n0\\n1\\n1\\n1\\n0\\n0\\n1\\n0\\n1\\n1\\n0\\n1\\n0\\n0\\n0\\n1\\n0\\n0\\n1\\n0\\n0\\n0\\n1\\n0\\n0\\n0\\n1\\n1\\n0\\n1\\n0\\n0\\n0\\n1\\n1\\n1\\n1\\n1\\n0\\n1\\n1\\n1\\n1\\n1\\n0\\n1\\n0\\n0\\n0\\n1\\n0\\n0\\n0\\n0\\n1\\n1\\n0\\n1\\n0\\n1\\n0\\n0\\n1\\n1\\n0\\n0\\n1\\n0\\n0\\n0\\n1\\n1\\n1\\n1\\n0\\n1\\n1\\n1\\n1\\n0\\n1\\n1\\n1\\n0\\n1\\n1\\n1\\n1\\n1\\n0\\n1\\n1\\n1\\n1\\n1\\n0\\n0\\n1\\n1\\n0\\n1\\n1\\n1\\n0\\n1\\n1\\n1\\n1\\n1\\n1\\n0\\n1\\n0\\n1\\n0\\n1\\n0\\n0\\n1\\n0\\n1\\n0\\n1\\n1\\n0\\n1\\n1\\n1\\n1\\n0\\n1\\n0\\n1\\n1\\n1\\n1\\n1\\n0\\n1\\n1\\n1\\n0\\n0\\n1\\n0\\n1\\n0\\n0\\n1\\n1\\n1\\n1\\n1\\n1\\n1\\n1\\n0\\n1\\n0\\n1\\n1\\n1\\n1\\n0\\n1\\n0\\n0\\n0\\n0\\n1\\n0\\n1\\n1\\n1\\n0\\n0\\n1\\n1\\n1\\n1\\n1\\n1\\n1\\n1\\n1\\n0\\n0\\n1\\n0\\n1\\n1\\n1\\n1\\n1\\n1\\n0\\n0\\n1\\n0\\n1\\n1\\n0\\n1\\n1\\n1\\n0\\n1\\n1\\n0\\n0\\n1\\n1\\n0\\n1\\n0\\n0\\n0\\n1\\n1\\n1\\n1\\n1\\n1\\n1\\n0\\n1\\n1\\n1\\n1\\n0\\n1\\n1\\n1\\n0\\n1\\n1\\n0\\n0\\n1\\n0\\n1\\n1\\n0\\n1\\n1\\n0\\n1\\n0\\n0\\n0\\n1\\n0\\n0\\n1\\n0\\n0\\n1\\n1\\n1\\n1\\n1\\n1\\n1\\n1\\n1\\n1\\n0\\n1\\n0\\n1\\n0\\n0\\n0\\n0\\n1\\n1\\n1\\n0\\n1\\n0\\n1\\n0\\n1\\n0\\n1\\n1\\n0\\n0\\n1\\n1\\n0\\n1\\n1\\n0\\n0\\n1\\n0\\n0\\n1\\n1\\n0\\n1\\n0\\n1\\n1\\n1\\n1\\n1\\n0\\n1\\n1\\n1\\n1\\n1\\n1\\n0\\n0\\n0\\n1\\n1\\n0\\n0\\n1\\n0\\n1\\n0\\n1\\n1\\n0\\n1\\n0\\n0\\n0\\n1\\n1\\n0\\n1\\n1\\n1\\n0\\n1\\n0\\n1\\n0\\n0\\n0\\n1\\n0\\n0\\n0\\n1\\n0\\n0\\n1\\n1\\n1\\n0\\n1\\n1\\n1\\n0\\n0\\n0\\n1\\n1\\n1\\n0\\n1\\n0\\n1\\n1\\n1\\n0\\n1\\n1\\n1\\n0\\n1\\n0\\n1\\n0\\n1\\n1\\n0\\n0\\n0\\n0\\n1\\n1\\n1\\n1\\n1\\n0\\n1\\n1\\n0\\n0\\n1\\n1\\n0\\n1\\n0\\n0\\n1\\n1\\n0\\n0\\n1\\n0\\n0\\n1\\n1\\n1\\n1\\n0\\n1\\n0\\n0\\n1\\n0\\n1\\n0\\n1\\n1\\n1\\n0\\n1\\n1\\n1\\n0\\n1\\n1\\n1\\n0\\n1\\n1\\n0\\n1\\n1\\n0\\n0\\n1\\n0\\n0\\n1\\n0\\n1\\n0\\n1\\n0\\n0\\n1\\n1\\n1\\n1\\n0\\n0\\n1\\n1\\n0\\n0\\n1\\n1\\n1\\n1\\n1\\n1\\n1\\n0\\n1\\n0\\n1\\n1\\n0\\n0\\n1\\n1\\n0\\n0\\n0\\n0\\n1\\n1\\n0\\n1\\n1\\n1\\n0\\n1\\n1\\n1\\n0\\n1\\n1\\n1\\n1\\n1\\n1\\n1\\n1\\n0\\n1\\n1\\n0\\n1\\n0\\n1\\n1\\n1\\n1\\n1\\n1\\n0\\n1\\n1\\n1\\n0\\n1\\n0\\n1\\n1\\n0\\n0\\n1\\n1\\n1\\n1\\n1\\n0\\n1\\n0\\n1\\n1\\n1\\n1\\n1\\n0\\n1\\n1\\n1\\n0\\n1\\n1\\n0\\n1\\n0\\n1\\n1\\n0\\n1\\n0\\n1\\n1\\n1\\n1\\n1\\n0\\n0\\n1\\n0\\n1\\n0\\n0\\n0\\n0\\n0\\n0\\n1\\n0\\n0\\n1\\n1\\n1\\n1\\n1\\n0\\n1\\n1\\n0\\n1\\n1\\n1\\n1\\n0\\n1\\n1\\n1\\n0\\n1\\n0\\n0\\n1\\n1\\n0\\n0\\n0\\n1\\n1\\n1\\n0\\n0\\n1\\n1\\n0\\n1\\n1\\n1\\n1\\n1\\n0\\n1\\n1\\n0\\n1\\n1\\n0\\n1\\n1\\n0\\n1\\n1\\n0\\n1\\n1\\n0\\n1\\n1\\n1\\n1\\n1\\n0\\n1\\n1\\n1\\n1\\n0\\n1\\n1\\n1\\n1\\n1\\n1\\n1\\n1\\n0\\n0\\n1\\n0\\n1\\n1\\n0\\n1\\n1\\n1\\n0\\n1\\n1\\n0\\n0\\n0\\n0\\n1\\n1\\n1\\n1\\n1\\n1\\n0\\n0\\n1\\n0\\n1\\n1\\n0\\n1\\n0\\n1\\n0\\n1\\n0\\n1\\n1\\n0\\n1\\n0\\n0\\n0\\n1\\n1\\n1\\n0\\n1\\n1\\n1\\n1\\n1\\n1\\n1\\n0\\n0\\n0\\n1\\n1\\n1\\n1\\n1\\n1\\n1\\n0\\n0\\n1\\n1\\n0\\n1\\n0\\n1\\n1\\n1\\n0\\n1\\n0\\n1\\n0\\n1\\n1\\n0\\n1\\n1\\n0\\n0\\n0\\n1\\n1\\n0\\n1\\n0\\n1\\n1\\n0\\n1\\n1\\n1\\n0\\n1\\n1\\n1\\n0\\n0\\n1\\n0\\n1\\n0\\n0\\n1\\n0\\n1\\n1\\n1\\n1\\n0\\n0\\n0\\n1\\n1\\n1\\n1\\n1\\n1\\n0\\n1\\n1\\n1\\n1\\n0\\n0\\n1\\n1\\n1\\n1\\n1\\n1\\n1\\n0\\n0\\n1\\n1\\n0\\n1\\n1\\n1\\n0\\n1\\n1\\n0\\n1\\n1\\n0\\n0\\n1\\n1\\n1\\n1\\n1\\n1\\n1\\n0\\n1\\n1\\n0\\n1\\n1\\n1\\n1\\n1\\n1\\n1\\n1\\n0\\n1\\n1\\n0\\n1\\n0\\n1\\n1\\n1\\n0\\n1\\n0\\n1\\n1\\n0\\n1\\n1\\n1\\n0\\n0\\n0\\n0\\n0\\n0\\n1\\n1\\n1\\n0\\n0\\n1\\n1\\n1\\n1\\n0\\n1\\n1\\n0\\n1\\n1\\n1\\n1\\n1\\n1\\n0\\n1\\n1\\n0\\n1\\n1\\n1\\n1\\n1\\n1\\n1\\n1\\n0\\n1\\n0\\n0\\n0\\n1\\n0\\n1\\n1\\n1\\n1\\n0\\n1\\n1\\n1\\n1\\n0\\n1\\n1\\n1\\n0\\n0\\n1\\n1\\n1\\n1\\n1\\n1\\n1\\n0\\n1\\n1\\n1\\n1\\n0\\n1\\n0\\n1\\n1\\n0\\n0\\n1\\n1\\n0\\n1\\n0\\n0\\n0\\n1\\n0\\n1\\n0\\n0\\n1\\n1\\n1\\n1\\n1\\n0\\n1\\n1\\n1\\n1\\n0\\n1\\n1\\n0\\n1\\n0\\n1\\n1\\n0\\n0\\n0\\n1\\n1\\n0\\n0\\n0\\n1\\n0\\n1\\n0\\n1\\n1\\n1\\n1\\n0\\n1\\n1\\n1\\n1\\n0\\n0\\n0\\n0\\n1\\n0\\n0\\n0\\n0\\n1\\n1\\n0\\n1\\n1\\n0\\n1\\n0\\n1\\n0\\n1\\n0\\n0\\n1\\n1\\n1\\n1\\n1\\n0\\n1\\n1\\n0\\n1\\n0\\n0\\n1\\n1\\n0\\n1\\n1\\n1\\n0\\n1\\n1\\n0\\n1\\n1\\n0\\n0\\n0\\n1\\n1\\n1\\n1\\n1\\n1\\n1\\n0\\n1\\n1\\n1\\n0\\n1\\n1\\n1\\n0\\n1\\n1\\n0\\n1\\n1\\n0\\n1\\n1\\n1\\n0\\n1\\n1\\n1\\n1\\n0\\n1\\n0\\n1\\n1\\n1\\n0\\n1\\n1\\n1\\n1\\n0\\n1\\n1\\n0\\n0\\n0\\n0\\n0\\n0\\n0\\n1\\n0\\n1\\n1\\n1\\n1\\n0\\n0\\n0\\n1\\n1\\n0\\n1\\n1\\n1\\n1\\n1\\n1\\n1\\n0\\n0\\n1\\n1\\n1\\n0\\n1\\n0\\n0\\n0\\n0\\n1\\n1\\n0\\n0\\n1\\n0\\n0\\n0\\n1\\n1\\n1\\n1\\n1\\n1\\n1\\n1\\n1\\n1\\n0\\n1\\n1\\n0\\n1\\n1\\n0\\n0\\n0\\n1\\n1\\n1\\n1\\n0\\n1\\n1\\n1\\n0\\n1\\n1\\n0\\n1\\n1\\n1\\n1\\n1\\n1\\n1\\n1\\n1\\n1\\n1\\n1\\n0\\n1\\n0\\n1\\n1\\n1\\n1\\n0\\n0\\n1\\n0\\n1\\n1\\n1\\n1\\n1\\n0\\n1\\n1\\n1\\n0\\n0\\n1\\n0\\n1\\n1\\n1\\n1\\n1\\n1\\n0\\n1\\n1\\n0\\n0\\n0\\n1\\n0\\n1\\n0\\n1\\n1\\n1\\n1\\n0\\n0\\n0\\n1\\n1\\n0\\n0\\n1\\n1\\n0\\n0\\n1\\n1\\n0\\n0\\n1\\n0\\n1\\n0\\n1\\n1\\n1\\n0\\n0\\n1\\n0\\n1\\n0\\n0\\n1\\n1\\n0\\n1\\n1\\n0\\n1\\n0\\n1\\n1\\n0\\n0\\n1\\n1\\n0\\n0\\n1\\n1\\n1\\n1\\n0\\n1\\n1\\n0\\n0\\n0\\n1\\n0\\n1\\n0\\n1\\n1\\n1\\n1\\n1\\n0\\n1\\n0\\n0\\n1\\n0\\n1\\n1\\n0\\n1\\n0\\n0\\n1\\n0\\n0\\n0\\n0\\n1\\n0\\n1\\n1\\n0\\n1\\n1\\n1\\n0\\n1\\n0\\n0\\n1\\n1\\n1\\n1\\n1\\n0\\n1\\n1\\n0\\n0\\n1\\n1\\n1\\n1\\n0\\n1\\n0\\n1\\n1\\n1\\n1\\n1\\n0\\n0\\n1\\n0\\n1\\n1\\n1\\n1\\n1\\n1\\n0\\n1\\n1\\n1\\n1\\n1\\n1\\n1\\n1\\n1\\n0\\n0\\n0\\n1\\n1\\n0\\n1\\n1\\n1\\n1\\n1\\n1\\n0\\n0\\n1\\n1\\n1\\n0\\n0\\n1\\n0\\n1\\n0\\n1\\n0\\n1\\n1\\n1\\n1\\n1\\n1\\n0\\n1\\n1\\n1\\n0\\n1\\n1\\n0\\n1\\n1\\n1\\n0\\n1\\n1\\n1\\n0\\n1\\n1\\n1\\n1\\n1\\n0\\n1\\n0\\n0\\n1\\n0\\n1\\n1\\n0\\n1\\n1\\n1\\n0\\n0\\n0\\n1\\n1\\n0\\n1\\n0\\n0\\n1\\n0\\n1\\n1\\n1\\n1\\n1\\n1\\n1\\n1\\n1\\n1\\n0\\n0\\n1\\n1\\n1\\n0\\n1\\n1\\n1\\n1\\n1\\n0\\n0\\n1\\n0\\n1\\n1\\n0\\n1\\n0\\n1\\n1\\n0\\n1\\n1\\n1\\n1\\n1\\n1\\n0\\n1\\n0\\n0\\n1\\n1\\n0\\n1\\n1\\n1\\n0\\n1\\n1\\n1\\n1\\n1\\n1\\n0\\n1\\n1\\n1\\n1\\n1\\n1\\n1\\n0\\n0\\n0\\n1\\n0\\n1\\n1\\n1\\n0\\n0\\n1\\n1\\n1\\n1\\n1\\n1\\n0\\n1\\n0\\n1\\n1\\n1\\n0\\n0\\n1\\n0\\n1\\n1\\n1\\n1\\n1\\n1\\n1\\n0\\n0\\n1\\n0\\n1\\n1\\n1\\n1\\n1\\n1\\n1\\n0\\n0\\n1\\n1\\n0\\n1\\n1\\n0\\n1\\n1\\n0\\n1\\n0\\n0\\n1\\n1\\n1\\n1\\n1\\n1\\n1\\n1\\n1\\n1\\n0\\n0\\n0\\n1\\n1\\n0\\n1\\n1\\n0\\n0\\n0\\n0\\n1\\n1\\n1\\n1\\n0\\n0\\n1\\n1\\n1\\n1\\n0\\n1\\n1\\n0\\n1\\n0\\n0\\n1\\n0\\n1\\n1\\n1\\n1\\n0\\n0\\n1\\n1\\n1\\n0\\n1\\n0\\n1\\n1\\n1\\n1\\n1\\n1\\n0\\n1\\n0\\n1\\n1\\n1\\n1\\n0\\n1\\n1\\n1\\n1\\n1\\n1\\n1\\n1\\n1\\n1\\n0\\n1\\n1\\n1\\n0\\n1\\n1\\n1\\n0\\n1\\n0\\n1\\n0\\n0\\n0\\n1\\n1\\n0\\n1\\n1\\n1\\n1\\n0\\n0\\n0\\n0\\n1\\n1\\n0\\n1\\n0\\n1\\n0\\n1\\n0\\n1\\n0\\n1\\n0\\n1\\n1\\n0\\n0\\n0\\n1\\n0\\n1\\n0\\n1\\n1\\n0\\n0\\n1\\n0\\n0\\n0\\n1\\n1\\n0\\n1\\n0\\n1\\n1\\n1\\n0\\n0\\n0\\n1\\n1\\n1\\n1\\n1\\n1\\n1\\n1\\n1\\n1\\n0\\n0\\n0\\n1\\n0\\n0\\n1\\n0\\n1\\n1\\n0\\n1\\n1\\n0\\n1\\n1\\n1\\n1\\n1\\n0\\n1\\n1\\n0\\n1\\n0\\n0\\n1\\n0\\n1\\n1\\n1\\n0\\n0\\n0\\n0\\n1\\n1\\n1\\n1\\n1\\n0\\n0\\n1\\n1\\n0\\n1\\n0\\n0\\n1\\n0\\n1\\n1\\n1\\n0\\n1\\n0\\n0\\n0\\n1\\n0\\n1\\n0\\n1\\n0\\n1\\n0\\n1\\n0\\n1\\n0\\n1\\n1\\n0\\n0\\n1\\n0\\n0\\n1\\n1\\n1\\n1\\n1\\n1\\n1\\n1\\n0\\n0\\n1\\n1\\n1\\n1\\n0\\n1\\n0\\n1\\n1\\n1\\n1\\n0\\n1\\n1\\n0\\n0\\n0\\n0\\n0\\n0\\n1\\n1\\n1\\n1\\n1\\n1\\n1\\n0\\n0\\n1\\n0\\n1\\n1\\n1\\n1\\n1\\n0\\n1\\n0\\n1\\n1\\n0\\n0\\n1\\n1\\n1\\n1\\n1\\n1\\n1\\n1\\n0\\n1\\n0\\n0\\n1\\n0\\n0\\n0\\n0\\n1\\n1\\n1\\n1\\n0\\n1\\n1\\n0\\n1\\n0\\n0\\n1\\n1\\n1\\n1\\n1\\n1\\n1\\n1\\n1\\n1\\n1\\n0\\n1\\n0\\n1\\n1\\n1\\n0\\n1\\n0\\n1\\n1\\n0\\n1\\n0\\n0\\n1\\n1\\n0\\n1\\n0\\n0\\n0\\n1\\n1\\n0\\n1\\n1\\n1\\n0\\n1\\n1\\n1\\n1\\n1\\n1\\n1\\n1\\n1\\n1\\n0\\n1\\n1\\n1\\n0\\n1\\n1\\n1\\n1\\n0\\n1\\n1\\n0\\n1\\n0\\n1\\n1\\n1\\n1\\n1\\n1\\n1\\n0\\n1\\n1\\n1\\n0\\n1\\n1\\n1\\n1\\n0\\n1\\n0\\n0\\n1\\n1\\n0\\n0\\n1\\n0\\n1\\n1\\n0\\n1\\n0\\n0\\n0\\n1\\n1\\n0\\n1\\n1\\n0\\n0\\n0\\n0\\n1\\n1\\n0\\n1\\n1\\n1\\n1\\n1\\n1\\n1\\n1\\n0\\n1\\n1\\n1\\n1\\n1\\n1\\n1\\n1\\n1\\n0\\n1\\n0\\n0\\n1\\n1\\n1\\n0\\n1\\n0\\n1\\n0\\n1\\n1\\n0\\n1\\n0\\n0\\n1\\n0\\n1\\n0\\n1\\n0\\n0\\n0\\n0\\n0\\n1\\n0\\n0\\n1\\n1\\n0\\n1\\n0\\n0\\n1\\n0\\n1\\n1\\n0\\n0\\n1\\n1\\n1\\n0\\n1\\n1\\n0\\n0\\n1\\n0\\n0\\n0\\n1\\n1\\n1\\n0\\n1\\n1\\n1\\n1\\n1\\n0\\n0\\n1\\n1\\n0\\n0\\n1\\n1\\n1\\n1\\n1\\n1\\n0\\n0\\n1\\n0\\n1\\n1\\n1\\n0\\n1\\n0\\n1\\n0\\n1\\n0\\n0\\n1\\n1\\n1\\n0\\n1\\n0\\n0\\n1\\n0\\n1\\n0\\n1\\n1\\n1\\n1\\n0\\n0\\n0\\n1\\n1\\n1\\n1\\n0\\n1\\n0\\n0\\n0\\n1\\n0\\n1\\n1\\n1\\n1\\n1\\n0\\n0\\n0\\n1\\n1\\n1\\n1\\n1\\n1\\n1\\n1\\n1\\n1\\n1\\n1\\n1\\n1\\n1\\n0\\n0\\n1\\n1\\n0\\n1\\n1\\n1\\n0\\n0\\n1\\n1\\n1\\n1\\n1\\n0\\n0\\n1\\n0\\n1\\n0\\n1\\n1\\n0\\n1\\n1\\n1\\n1\\n0\\n1\\n0\\n0\\n1\\n1\\n1\\n1\\n0\\n0\\n1\\n0\\n0\\n1\\n1\\n1\\n1\\n1\\n1\\n1\\n1\\n1\\n1\\n0\\n1\\n0\\n1\\n0\\n0\\n0\\n1\\n1\\n0\\n1\\n1\\n0\\n1\\n1\\n1\\n1\\n1\\n1\\n1\\n1\\n1\\n0\\n0\\n1\\n1\\n0\\n1\\n0\\n0\\n0\\n0\\n0\\n0\\n1\\n0\\n1\\n1\\n0\\n1\\n1\\n0\\n1\\n1\\n1\\n1\\n1\\n1\\n1\\n1\\n1\\n0\\n0\\n0\\n1\\n1\\n1\\n1\\n1\\n1\\n1\\n1\\n0\\n1\\n0\\n1\\n1\\n1\\n1\\n1\\n1\\n1\\n1\\n1\\n0\\n0\\n1\\n1\\n1\\n1\\n1\\n1\\n1\\n1\\n1\\n1\\n1\\n1\\n0\\n1\\n1\\n1\\n1\\n1\\n1\\n0\\n1\\n1\\n1\\n1\\n1\\n0\\n0\\n0\\n1\\n0\\n0\\n1\\n1\\n1\\n0\\n0\\n0\\n1\\n1\\n0\\n0\\n0\\n1\\n1\\n1\\n0\\n0\\n1\\n1\\n1\\n0\\n1\\n1\\n1\\n1\\n1\\n0\\n1\\n1\\n1\\n1\\n1\\n1\\n0\\n1\\n1\\n0\\n0\\n1\\n1\\n1\\n0\\n0\\n1\\n1\\n1\\n0\\n1\\n0\\n1\\n0\\n1\\n1\\n1\\n0\\n1\\n1\\n0\\n0\\n1\\n1\\n0\\n1\\n1\\n1\\n1\\n1\\n0\\n1\\n0\\n1\\n1\\n0\\n0\\n1\\n1\\n1\\n1\\n1\\n0\\n1\\n1\\n0\\n1\\n0\\n1\\n1\\n0\\n0\\n1\\n0\\n0\\n1\\n1\\n1\\n1\\n1\\n1\\n0\\n0\\n1\\n0\\n1\\n1\\n1\\n1\\n0\\n1\\n0\\n1\\n0\\n0\\n0\\n0\\n1\\n0\\n1\\n0\\n0\\n0\\n1\\n1\\n1\\n0\\n1\\n0\\n0\\n1\\n0\\n1\\n1\\n1\\n1\\n1\\n1\\n1\\n1\\n1\\n0\\n0\\n0\\n1\\n0\\n1\\n0\\n1\\n0\\n1\\n0\\n1\\n1\\n0\\n0\\n0\\n1\\n0\\n0\\n0\\n0\\n0\\n1\\n1\\n1\\n1\\n0\\n0\\n0\\n1\\n1\\n1\\n1\\n0\\n1\\n0\\n1\\n1\\n0\\n0\\n1\\n1\\n0\\n1\\n1\\n1\\n0\\n1\\n0\\n0\\n0\\n0\\n0\\n1\\n1\\n0\\n0\\n0\\n1\\n0\\n0\\n1\\n0\\n1\\n1\\n0\\n1\\n1\\n1\\n0\\n0\\n0\\n0\\n1\\n0\\n1\\n1\\n1\\n0\\n1\\n0\\n0\\n1\\n1\\n0\\n1\\n0\\n1\\n1\\n1\\n1\\n0\\n0\\n1\\n1\\n1\\n0\\n0\\n1\\n1\\n1\\n1\\n1\\n0\\n1\\n0\\n0\\n1\\n1\\n0\\n1\\n1\\n0\\n0\\n1\\n1\\n1\\n0\\n1\\n1\\n1\\n1\\n1\\n1\\n1\\n1\\n0\\n0\\n1\\n1\\n0\\n1\\n1\\n1\\n1\\n0\\n1\\n1\\n1\\n1\\n1\\n1\\n0\\n0\\n1\\n1\\n1\\n1\\n0\\n1\\n1\\n0\\n0\\n1\\n0\\n0\\n1\\n0\\n0\\n0\\n1\\n1\\n1\\n0\\n0\\n0\\n0\\n0\\n1\\n0\\n1\\n1\\n0\\n0\\n0\\n1\\n1\\n1\\n1\\n1\\n0\\n1\\n0\\n1\\n1\\n0\\n1\\n1\\n1\\n0\\n0\\n1\\n1\\n1\\n0\\n1\\n0\\n0\\n1\\n1\\n0\\n0\\n0\\n1\\n1\\n0\\n1\\n1\\n0\\n0\\n0\\n0\\n0\\n0\\n0\\n1\\n1\\n0\\n0\\n0\\n1\\n1\\n0\\n1\\n1\\n1\\n1\\n0\\n1\\n1\\n1\\n1\\n1\\n1\\n1\\n1\\n1\\n1\\n0\\n1\\n1\\n1\\n1\\n1\\n1\\n1\\n1\\n0\\n1\\n1\\n0\\n1\\n1\\n1\\n1\\n1\\n1\\n1\\n0\\n0\\n0\\n1\\n0\\n1\\n0\\n0\\n0\\n1\\n0\\n1\\n1\\n0\\n0\\n1\\n0\\n0\\n1\\n1\\n1\\n0\\n1\\n1\\n1\\n1\\n0\\n0\\n0\\n0\\n0\\n0\\n0\\n1\\n1\\n1\\n1\\n1\\n1\\n0\\n0\\n1\\n0\\n0\\n0\\n1\\n1\\n0\\n1\\n1\\n1\\n1\\n1\\n1\\n1\\n1\\n1\\n1\\n1\\n1\\n1\\n1\\n1\\n1\\n0\\n0\\n1\\n0\\n1\\n1\\n1\\n0\\n1\\n1\\n1\\n1\\n1\\n1\\n0\\n1\\n0\\n1\\n0\\n1\\n0\\n0\\n1\\n0\\n0\\n0\\n1\\n0\\n1\\n1\\n1\\n0\\n1\\n1\\n0\\n1\\n0\\n1\\n0\\n1\\n1\\n1\\n1\\n1\\n0\\n1\\n1\\n1\\n1\\n1\\n0\\n0\\n1\\n1\\n1\\n1\\n0\\n0\\n0\\n1\\n1\\n0\\n1\\n1\\n1\\n1\\n1\\n0\\n1\\n1\\n0\\n0\\n1\\n1\\n1\\n1\\n1\\n1\\n0\\n0\\n0\\n1\\n0\\n1\\n1\\n1\\n1\\n1\\n1\\n1\\n0\\n1\\n1\\n1\\n1\\n1\\n1\\n0\\n1\\n0\\n1\\n0\\n0\\n0\\n0\\n0\\n1\\n1\\n1\\n0\\n1\\n1\\n1\\n1\\n1\\n0\\n1\\n1\\n1\\n0\\n0\\n0\\n0\\n0\\n0\\n1\\n0\\n1\\n0\\n0\\n0\\n0\\n1\\n1\\n0\\n1\\n1\\n1\\n0\\n1\\n1\\n1\\n1\\n1\\n0\\n0\\n1\\n0\\n0\\n1\\n0\\n1\\n1\\n1\\n1\\n0\\n1\\n1\\n1\\n1\\n0\\n0\\n0\\n1\\n1\\n1\\n1\\n1\\n1\\n1\\n0\\n1\\n1\\n0\\n1\\n1\\n0\\n1\\n1\\n0\\n1\\n1\\n1\\n1\\n0\\n0\\n0\\n1\\n0\\n1\\n1\\n1\\n1\\n0\\n1\\n1\\n1\\n1\\n0\\n1\\n0\\n1\\n1\\n1\\n1\\n1\\n1\\n1\\n1\\n0\\n0\\n0\\n1\\n1\\n1\\n0\\n0\\n1\\n1\\n1\\n1\\n1\\n0\\n1\\n1\\n1\\n1\\n1\\n1\\n1\\n1\\n0\\n0\\n1\\n1\\n0\\n1\\n0\\n1\\n1\\n0\\n1\\n1\\n0\\n1\\n0\\n1\\n1\\n1\\n1\\n0\\n1\\n0\\n1\\n1\\n1\\n0\\n1\\n1\\n1\\n1\\n1\\n1\\n0\\n1\\n0\\n1\\n1\\n1\\n1\\n1\\n0\\n1\\n0\\n1\\n0\\n0\\n1\\n1\\n1\\n1\\n0\\n1\\n1\\n1\\n1\\n1\\n1\\n0\\n1\\n1\\n1\\n0\\n1\\n0\\n1\\n1\\n1\\n0\\n1\\n1\\n1\\n0\\n0\\n0\\n0\\n1\\n1\\n1\\n1\\n1\\n1\\n1\\n1\\n0\\n1\\n1\\n1\\n1\\n1\\n0\\n1\\n1\\n1\\n1\\n1\\n1\\n1\\n1\\n1\\n0\\n1\\n1\\n0\\n1\\n0\\n1\\n1\\n1\\n1\\n1\\n0\\n1\\n0\\n0\\n1\\n1\\n0\\n1\\n1\\n0\\n1\\n1\\n1\\n1\\n0\\n1\\n1\\n1\\n0\\n1\\n1\\n1\\n0\\n1\\n1\\n1\\n0\\n0\\n1\\n1\\n1\\n1\\n1\\n1\\n0\\n1\\n0\\n1\\n1\\n0\\n1\\n0\\n1\\n0\\n0\\n1\\n1\\n1\\n1\\n0\\n0\\n0\\n1\\n1\\n1\\n1\\n1\\n0\\n1\\n1\\n1\\n0\\n1\\n0\\n1\\n1\\n0\\n0\\n0\\n0\\n1\\n1\\n0\\n0\\n0\\n1\\n1\\n1\\n1\\n1\\n1\\n0\\n1\\n0\\n0\\n0\\n0\\n1\\n1\\n0\\n1\\n1\\n1\\n1\\n0\\n1\\n1\\n1\\n0\\n1\\n0\\n0\\n1\\n0\\n1\\n1\\n0\\n1\\n1\\n0\\n1\\n0\\n0\\n0\\n0\\n1\\n1\\n0\\n0\\n1\\n1\\n0\\n1\\n1\\n1\\n1\\n1\\n1\\n0\\n1\\n1\\n1\\n1\\n1\\n1\\n1\\n0\\n0\\n1\\n0\\n0\\n0\\n0\\n1\\n0\\n1\\n0\\n0\\n1\\n1\\n1\\n0\\n1\\n0\\n0\\n0\\n1\\n0\\n1\\n0\\n0\\n1\\n0\\n1\\n1\\n1\\n1\\n0\\n1\\n1\\n0\\n1\\n1\\n1\\n1\\n1\\n1\\n1\\n1\\n0\\n1\\n1\\n1\\n1\\n1\\n1\\n1\\n0\\n0\\n1\\n0\\n1\\n1\\n1\\n0\\n1\\n1\\n1\\n1\\n1\\n1\\n0\\n0\\n1\\n1\\n0\\n1\\n1\\n1\\n0\\n1\\n1\\n0\\n1\\n1\\n1\\n1\\n0\\n1\\n0\\n1\\n0\\n1\\n0\\n1\\n1\\n1\\n1\\n0\\n0\\n1\\n0\\n0\\n1\\n1\\n1\\n0\\n1\\n1\\n0\\n0\\n0\\n0\\n1\\n1\\n1\\n0\\n0\\n1\\n1\\n1\\n0\\n1\\n0\\n1\\n1\\n0\\n0\\n1\\n0\\n1\\n0\\n1\\n1\\n0\\n1\\n1\\n1\\n0\\n1\\n1\\n1\\n1\\n1\\n0\\n1\\n1\\n0\\n0\\n0\\n0\\n0\\n1\\n1\\n1\\n1\\n0\\n0\\n1\\n0\\n1\\n0\\n0\\n0\\n0\\n0\\n1\\n0\\n1\\n1\\n1\\n0\\n1\\n0\\n1\\n1\\n0\\n1\\n1\\n1\\n1\\n1\\n0\\n0\\n1\\n1\\n1\\n1\\n1\\n0\\n1\\n1\\n1\\n1\\n0\\n1\\n0\\n1\\n1\\n1\\n1\\n1\\n1\\n1\\n1\\n1\\n0\\n1\\n0\\n0\\n1\\n0\\n1\\n1\\n0\\n0\\n1\\n1\\n0\\n1\\n1\\n1\\n1\\n1\\n0\\n0\\n1\\n1\\n0\\n1\\n1\\n0\\n1\\n0\\n1\\n1\\n0\\n1\\n0\\n0\\n0\\n0\\n1\\n1\\n1\\n1\\n0\\n1\\n1\\n0\\n0\\n1\\n1\\n1\\n1\\n1\\n1\\n0\\n1\\n0\\n1\\n1\\n1\\n1\\n0\\n0\\n0\\n1\\n0\\n0\\n1\\n1\\n0\\n1\\n0\\n1\\n0\\n0\\n1\\n1\\n0\\n1\\n1\\n1\\n1\\n0\\n1\\n0\\n1\\n1\\n1\\n1\\n1\\n1\\n0\\n1\\n0\\n1\\n1\\n1\\n1\\n0\\n1\\n1\\n0\\n0\\n1\\n1\\n1\\n1\\n1\\n1\\n1\\n0\\n1\\n1\\n1\\n1\\n1\\n0\\n1\\n1\\n1\\n0\\n1\\n1\\n0\\n1\\n1\\n1\\n0\\n1\\n1\\n1\\n0\\n0\\n0\\n0\\n1\\n1\\n1\\n1\\n1\\n0\\n0\\n0\\n0\\n1\\n1\\n1\\n1\\n0\\n1\\n1\\n1\\n1\\n1\\n1\\n0\\n1\\n0\\n1\\n1\\n1\\n1\\n0\\n0\\n1\\n1\\n0\\n1\\n1\\n0\\n0\\n0\\n0\\n1\\n1\\n0\\n1\\n0\\n0\\n1\\n0\\n1\\n0\\n1\\n1\\n1\\n1\\n1\\n1\\n0\\n0\\n1\\n1\\n0\\n1\\n0\\n1\\n0\\n0\\n1\\n1\\n1\\n0\\n1\\n0\\n0\\n0\\n0\\n1\\n1\\n1\\n1\\n0\\n1\\n1\\n0\\n1\\n0\\n0\\n1\\n0\\n0\\n1\\n1\\n0\\n1\\n1\\n1\\n1\\n1\\n0\\n1\\n1\\n1\\n1\\n1\\n0\\n1\\n1\\n0\\n1\\n1\\n1\\n0\\n1\\n1\\n1\\n0\\n0\\n1\\n0\\n1\\n0\\n1\\n1\\n0\\n0\\n1\\n0\\n1\\n0\\n0\\n1\\n1\\n1\\n0\\n1\\n0\\n0\\n1\\n0\\n0\\n0\\n0\\n0\\n0\\n0\\n0\\n0\\n0\\n1\\n1\\n1\\n0\\n0\\n1\\n1\\n1\\n0\\n0\\n1\\n0\\n1\\n0\\n1\\n1\\n0\\n1\\n1\\n0\\n1\\n1\\n0\\n0\\n0\\n1\\n0\\n1\\n1\\n0\\n0\\n0\\n1\\n0\\n0\\n1\\n0\\n1\\n0\\n0\\n1\\n1\\n1\\n1\\n1\\n0\\n0\\n0\\n0\\n1\\n0\\n1\\n1\\n1\\n0\\n1\\n1\\n0\\n1\\n1\\n0\\n0\\n0\\n1\\n1\\n0\\n1\\n1\\n1\\n0\\n1\\n1\\n0\\n1\\n1\\n1\\n1\\n1\\n1\\n1\\n0\\n1\\n1\\n0\\n1\\n1\\n1\\n1\\n0\\n1\\n0\\n0\\n0\\n1\\n0\\n1\\n1\\n1\\n0\\n1\\n1\\n1\\n1\\n0\\n0\\n1\\n1\\n1\\n1\\n0\\n0\\n0\\n1\\n0\\n1\\n0\\n1\\n0\\n1\\n1\\n1\\n1\\n1\\n1\\n1\\n0\\n1\\n0\\n0\\n1\\n1\\n0\\n1\\n1\\n0\\n0\\n1\\n0\\n1\\n1\\n1\\n1\\n1\\n1\\n1\\n0\\n1\\n1\\n1\\n1\\n0\\n0\\n0\\n1\\n0\\n1\\n0\\n0\\n0\\n0\\n1\\n0\\n0\\n1\\n1\\n1\\n0\\n1\\n1\\n0\\n1\\n1\\n1\\n0\\n0\\n1\\n0\\n1\\n1\\n1\\n1\\n0\\n1\\n0\\n0\\n1\\n1\\n0\\n0\\n1\\n1\\n1\\n1\\n1\\n1\\n1\\n1\\n1\\n1\\n1\\n0\\n0\\n0\\n1\\n1\\n0\\n1\\n1\\n1\\n1\\n1\\n0\\n0\\n0\\n0\\n1\\n1\\n0\\n1\\n0\\n1\\n1\\n1\\n0\\n0\\n1\\n1\\n0\\n0\\n1\\n1\\n1\\n1\\n1\\n0\\n1\\n1\\n1\\n1\\n0\\n1\\n0\\n1\\n1\\n1\\n1\\n1\\n1\\n1\\n1\\n1\\n1\\n1\\n0\\n1\\n1\\n0\\n1\\n1\\n1\\n0\\n1\\n1\\n1\\n1\\n0\\n0\\n1\\n1\\n1\\n1\\n0\\n1\\n0\\n1\\n1\\n1\\n1\\n1\\n1\\n0\\n0\\n0\\n0\\n1\\n1\\n1\\n1\\n1\\n1\\n0\\n1\\n1\\n1\\n0\\n0\\n1\\n1\\n1\\n1\\n0\\n1\\n0\\n0\\n1\\n1\\n1\\n0\\n1\\n1\\n1\\n1\\n0\\n0\\n0\\n0\\n1\\n1\\n1\\n1\\n1\\n0\\n0\\n1\\n1\\n1\\n0\\n0\\n1\\n0\\n1\\n1\\n0\\n0\\n1\\n0\\n1\\n0\\n0\\n1\\n0\\n1\\n0\\n1\\n0\\n0\\n1\\n0\\n0\\n0\\n0\\n1\\n0\\n1\\n0\\n0\\n0\\n0\\n0\\n0\\n1\\n0\\n0\\n0\\n1\\n1\\n0\\n1\\n0\\n1\\n1\\n1\\n1\\n0\\n1\\n1\\n0\\n0\\n1\\n1\\n1\\n0\\n1\\n1\\n1\\n0\\n1\\n1\\n1\\n0\\n0\\n0\\n0\\n1\\n0\\n1\\n1\\n1\\n1\\n1\\n1\\n1\\n1\\n0\\n1\\n1\\n1\\n0\\n1\\n1\\n1\\n0\\n1\\n0\\n1\\n0\\n1\\n1\\n1\\n1\\n1\\n0\\n0\\n1\\n0\\n1\\n1\\n1\\n0\\n0\\n1\\n1\\n1\\n0\\n0\\n1\\n1\\n1\\n0\\n1\\n1\\n1\\n1\\n1\\n0\\n1\\n0\\n0\\n1\\n1\\n1\\n1\\n1\\n1\\n1\\n1\\n1\\n0\\n1\\n1\\n1\\n1\\n0\\n1\\n1\\n1\\n0\\n0\\n1\\n1\\n1\\n0\\n1\\n0\\n1\\n1\\n1\\n1\\n1\\n0\\n0\\n0\\n0\\n1\\n1\\n0\\n1\\n1\\n1\\n1\\n0\\n1\\n0\\n0\\n1\\n1\\n1\\n1\\n0\\n0\\n1\\n1\\n1\\n1\\n1\\n1\\n0\\n1\\n1\\n0\\n1\\n1\\n0\\n0\\n0\\n1\\n0\\n1\\n1\\n0\\n0\\n1\\n1\\n0\\n1\\n1\\n1\\n1\\n1\\n1\\n1\\n1\\n1\\n1\\n0\\n1\\n1\\n1\\n0\\n1\\n1\\n0\\n1\\n0\\n0\\n1\\n1\\n1\\n1\\n0\\n0\\n0\\n1\\n0\\n0\\n1\\n0\\n1\\n0\\n1\\n1\\n0\\n1\\n1\\n1\\n1\\n1\\n0\\n1\\n0\\n1\\n1\\n1\\n1\\n1\\n1\\n1\\n1\\n0\\n0\\n0\\n0\\n0\\n1\\n0\\n1\\n1\\n0\\n1\\n1\\n0\\n1\\n1\\n1\\n0\\n0\\n0\\n1\\n1\\n0\\n1\\n1\\n1\\n1\\n1\\n0\\n1\\n1\\n1\\n1\\n1\\n0\\n1\\n1\\n0\\n1\\n1\\n0\\n1\\n0\\n1\\n1\\n0\\n1\\n0\\n1\\n1\\n0\\n1\\n1\\n1\\n0\\n1\\n1\\n0\\n1\\n1\\n0\\n0\\n0\\n0\\n1\\n1\\n0\\n0\\n1\\n1\\n1\\n1\\n1\\n1\\n1\\n0\\n1\\n1\\n1\\n1\\n1\\n1\\n0\\n0\\n1\\n1\\n1\\n0\\n0\\n0\\n0\\n1\\n1\\n1\\n1\\n0\\n1\\n1\\n1\\n1\\n1\\n0\\n1\\n1\\n1\\n1\\n0\\n1\\n0\\n1\\n1\\n0\\n1\\n1\\n1\\n1\\n0\\n1\\n1\\n1\\n1\\n1\\n1\\n1\\n1\\n1\\n1\\n1\\n1\\n0\\n1\\n1\\n1\\n1\\n1\\n0\\n1\\n1\\n0\\n1\\n1\\n0\\n1\\n0\\n1\\n1\\n1\\n0\\n1\\n1\\n1\\n0\\n0\\n0\\n0\\n0\\n1\\n1\\n1\\n1\\n1\\n1\\n0\\n0\\n1\\n1\\n1\\n1\\n1\\n1\\n1\\n0\\n1\\n0\\n1\\n0\\n1\\n1\\n1\\n0\\n0\\n0\\n1\\n1\\n1\\n0\\n1\\n0\\n1\\n0\\n0\\n1\\n1\\n1\\n0\\n1\\n0\\n1\\n0\\n0\\n1\\n0\\n1\\n1\\n0\\n1\\n1\\n1\\n1\\n1\\n0\\n1\\n0\\n1\\n1\\n1\\n0\\n1\\n0\\n0\\n1\\n0\\n1\\n1\\n0\\n1\\n0\\n1\\n0\\n1\\n1\\n1\\n0\\n1\\n1\\n1\\n0\\n1\\n1\\n0\\n0\\n0\\n0\\n1\\n0\\n1\\n1\\n0\\n1\\n1\\n1\\n1\\n1\\n0\\n0\\n1\\n1\\n1\\n1\\n0\\n1\\n0\\n1\\n1\\n0\\n1\\n1\\n1\\n1\\n0\\n1\\n1\\n0\\n1\\n1\\n1\\n0\\n0\\n1\\n1\\n1\\n1\\n0\\n1\\n1\\n0\\n1\\n0\\n0\\n1\\n0\\n1\\n0\\n1\\n1\\n1\\n0\\n1\\n0\\n1\\n1\\n1\\n1\\n1\\n1\\n1\\n1\\n1\\n0\\n1\\n0\\n0\\n1\\n1\\n1\\n0\\n0\\n1\\n1\\n1\\n1\\n0\\n1\\n0\\n1\\n1\\n0\\n1\\n1\\n1\\n1\\n0\\n1\\n0\\n1\\n0\\n1\\n0\\n1\\n0\\n1\\n1\\n0\\n0\\n1\\n0\\n0\\n0\\n1\\n0\\n1\\n1\\n1\\n1\\n1\\n0\\n0\\n1\\n1\\n0\\n0\\n1\\n1\\n0\\n1\\n0\\n0\\n1\\n1\\n1\\n1\\n1\\n1\\n1\\n1\\n0\\n1\\n0\\n0\\n0\\n0\\n1\\n1\\n1\\n1\\n0\\n1\\n1\\n1\\n1\\n1\\n1\\n1\\n1\\n0\\n1\\n0\\n1\\n1\\n0\\n0\\n1\\n1\\n1\\n0\\n1\\n0\\n1\\n1\\n0\\n0\\n1\\n1\\n0\\n1\\n0\\n1\\n1\\n1\\n0\\n0\\n0\\n0\\n1\\n1\\n1\\n1\\n1\\n0\\n0\\n0\\n1\\n1\\n0\\n1\\n1\\n1\\n1\\n1\\n0\\n1\\n0\\n1\\n1\\n0\\n1\\n0\\n1\\n1\\n0\\n1\\n0\\n1\\n1\\n0\\n1\\n0\\n0\\n0\\n1\\n0\\n0\\n1\\n0\\n1\\n1\\n1\\n0\\n0\\n0\\n1\\n1\\n1\\n1\\n1\\n1\\n0\\n0\\n0\\n1\\n1\\n1\\n1\\n1\\n1\\n0\\n0\\n0\\n1\\n1\\n1\\n1\\n1\\n1\\n1\\n1\\n1\\n0\\n0\\n0\\n0\\n1\\n0\\n1\\n1\\n1\\n1\\n0\\n0\\n1\\n1\\n1\\n0\\n1\\n0\\n1\\n1\\n1\\n0\\n1\\n0\\n0\\n0\\n0\\n1\\n1\\n0\\n1\\n1\\n0\\n1\\n1\\n1\\n0\\n1\\n1\\n1\\n1\\n1\\n1\\n1\\n0\\n0\\n1\\n0\\n1\\n1\\n1\\n1\\n1\\n1\\n0\\n1\\n0\\n0\\n0\\n1\\n1\\n1\\n1\\n1\\n0\\n1\\n0\\n0\\n1\\n1\\n1\\n1\\n1\\n0\\n0\\n0\\n0\\n0\\n0\\n1\\n1\\n1\\n0\\n1\\n0\\n0\\n1\\n0\\n0\\n1\\n0\\n1\\n0\\n1\\n0\\n0\\n1\\n0\\n1\\n0\\n1\\n0\\n1\\n1\\n1\\n0\\n1\\n1\\n0\\n0\\n1\\n1\\n0\\n1\\n1\\n0\\n1\\n1\\n0\\n1\\n1\\n1\\n1\\n1\\n0\\n1\\n0\\n0\\n0\\n0\\n0\\n0\\n0\\n0\\n1\\n1\\n1\\n1\\n1\\n1\\n1\\n0\\n1\\n0\\n0\\n1\\n1\\n0\\n0\\n1\\n1\\n1\\n0\\n0\\n1\\n1\\n0\\n0\\n0\\n0\\n0\\n1\\n1\\n1\\n1\\n0\\n1\\n1\\n1\\n0\\n0\\n1\\n0\\n1\\n1\\n1\\n1\\n0\\n1\\n0\\n0\\n1\\n0\\n1\\n1\\n0\\n1\\n1\\n0\\n0\\n1\\n1\\n1\\n1\\n1\\n1\\n0\\n0\\n1\\n1\\n1\\n1\\n0\\n0\\n0\\n0\\n0\\n0\\n1\\n1\\n1\\n1\\n1\\n1\\n1\\n0\\n1\\n1\\n0\\n1\\n0\\n1\\n1\\n1\\n1\\n0\\n1\\n1\\n1\\n1\\n1\\n1\\n1\\n0\\n1\\n1\\n1\\n0\\n1\\n0\\n1\\n1\\n1\\n1\\n1\\n1\\n1\\n0\\n0\\n0\\n0\\n1\\n1\\n1\\n1\\n1\\n1\\n0\\n1\\n0\\n1\\n1\\n0\\n1\\n0\\n0\\n1\\n0\\n1\\n0\\n1\\n0\\n1\\n1\\n1\\n1\\n1\\n1\\n1\\n0\\n0\\n0\\n0\\n1\\n1\\n1\\n1\\n1\\n0\\n1\\n1\\n1\\n1\\n0\\n1\\n1\\n0\\n1\\n1\\n1\\n0\\n1\\n0\\n1\\n1\\n0\\n1\\n1\\n0\\n0\\n1\\n1\\n1\\n1\\n1\\n1\\n1\\n0\\n1\\n1\\n1\\n1\\n0\\n0\\n1\\n1\\n1\\n0\\n1\\n0\\n1\\n1\\n0\\n0\\n1\\n0\\n1\\n0\\n1\\n1\\n0\\n0\\n1\\n1\\n0\\n1\\n1\\n0\\n1\\n0\\n0\\n1\\n0\\n0\\n1\\n1\\n1\\n1\\n0\\n1\\n1\\n0\\n0\\n0\\n0\\n1\\n1\\n1\\n1\\n0\\n1\\n0\\n1\\n1\\n1\\n0\\n1\\n1\\n1\\n1\\n0\\n1\\n1\\n1\\n1\\n1\\n0\\n0\\n1\\n0\\n0\\n0\\n1\\n0\\n1\\n0\\n0\\n1\\n1\\n1\\n1\\n1\\n1\\n0\\n1\\n1\\n0\\n1\\n1\\n1\\n1\\n0\\n1\\n1\\n1\\n0\\n1\\n0\\n1\\n1\\n1\\n1\\n0\\n1\\n1\\n1\\n0\\n1\\n1\\n0\\n0\\n1\\n1\\n1\\n1\\n1\\n1\\n1\\n1\\n0\\n1\\n1\\n1\\n0\\n0\\n1\\n1\\n0\\n0\\n1\\n0\\n0\\n1\\n0\\n1\\n1\\n1\\n0\\n1\\n1\\n0\\n1\\n0\\n0\\n0\\n1\\n0\\n1\\n1\\n1\\n1\\n1\\n1\\n1\\n0\\n1\\n1\\n1\\n1\\n1\\n1\\n0\\n1\\n1\\n0\\n1\\n0\\n1\\n1\\n0\\n0\\n1\\n1\\n1\\n0\\n0\\n0\\n0\\n1\\n1\\n0\\n1\\n0\\n1\\n0\\n0\\n0\\n1\\n1\\n0\\n0\\n0\\n0\\n1\\n1\\n1\\n0\\n0\\n1\\n1\\n1\\n1\\n1\\n0\\n1\\n1\\n1\\n1\\n1\\n1\\n0\\n1\\n0\\n0\\n0\\n0\\n1\\n0\\n1\\n0\\n1\\n0\\n0\\n1\\n1\\n0\\n1\\n1\\n0\\n1\\n0\\n1\\n1\\n1\\n1\\n0\\n1\\n0\\n1\\n1'"
      ]
     },
     "execution_count": 35,
     "metadata": {},
     "output_type": "execute_result"
    }
   ],
   "source": [
    "payload = X_test.to_csv(index=False, header=False).rstrip()\n",
    "\n",
    "response = sm_runtime.invoke_endpoint(EndpointName=xgb_endpoint_name, \n",
    "                                                  Body=payload.encode('utf-8'),\n",
    "                                                  ContentType='text/csv')['Body'].read().decode('utf-8').strip()\n",
    "response"
   ]
  },
  {
   "cell_type": "code",
   "execution_count": 36,
   "metadata": {},
   "outputs": [
    {
     "data": {
      "text/plain": [
       "(10209,)"
      ]
     },
     "execution_count": 36,
     "metadata": {},
     "output_type": "execute_result"
    }
   ],
   "source": [
    "import numpy as np\n",
    "\n",
    "preds_test = np.fromstring(response, sep='\\n')\n",
    "preds_test.shape"
   ]
  },
  {
   "cell_type": "code",
   "execution_count": 37,
   "metadata": {},
   "outputs": [
    {
     "data": {
      "text/plain": [
       "array([1., 1., 1., ..., 0., 1., 1.])"
      ]
     },
     "execution_count": 37,
     "metadata": {},
     "output_type": "execute_result"
    }
   ],
   "source": [
    "preds_test"
   ]
  },
  {
   "cell_type": "markdown",
   "metadata": {},
   "source": [
    "## Analyze and Visualize Our Test Metrics"
   ]
  },
  {
   "cell_type": "code",
   "execution_count": 38,
   "metadata": {},
   "outputs": [
    {
     "name": "stdout",
     "output_type": "stream",
     "text": [
      "Test Accuracy:  0.8570868841218533\n",
      "Test Precision:  [0.81700026 0.88132663]\n"
     ]
    }
   ],
   "source": [
    "from sklearn.metrics import accuracy_score, precision_score, classification_report, confusion_matrix\n",
    "\n",
    "print('Test Accuracy: ', accuracy_score(y_test, preds_test))\n",
    "print('Test Precision: ', precision_score(y_test, preds_test, average=None))"
   ]
  },
  {
   "cell_type": "code",
   "execution_count": 39,
   "metadata": {},
   "outputs": [
    {
     "data": {
      "text/plain": [
       "array([[3143,  755],\n",
       "       [ 704, 5607]])"
      ]
     },
     "execution_count": 39,
     "metadata": {},
     "output_type": "execute_result"
    }
   ],
   "source": [
    "import seaborn as sn\n",
    "import pandas as pd\n",
    "import matplotlib.pyplot as plt\n",
    "\n",
    "df_cm_test = confusion_matrix(y_test, preds_test)\n",
    "df_cm_test"
   ]
  },
  {
   "cell_type": "code",
   "execution_count": 40,
   "metadata": {},
   "outputs": [
    {
     "name": "stdout",
     "output_type": "stream",
     "text": [
      "[[3143  755]\n",
      " [ 704 5607]]\n"
     ]
    },
    {
     "data": {
      "text/plain": [
       "<Figure size 432x288 with 0 Axes>"
      ]
     },
     "metadata": {},
     "output_type": "display_data"
    },
    {
     "data": {
      "image/png": "[encoded data removed]",
      "text/plain": [
       "<Figure size 432x288 with 2 Axes>"
      ]
     },
     "metadata": {
      "image/png": {
       "height": 279,
       "width": 351
      }
     },
     "output_type": "display_data"
    }
   ],
   "source": [
    "import itertools\n",
    "\n",
    "import matplotlib.pyplot as plt\n",
    "%matplotlib inline\n",
    "%config InlineBackend.figure_format='retina'\n",
    "\n",
    "def plot_conf_mat(cm, classes, title, cmap = plt.cm.Greens):\n",
    "    print(cm)\n",
    "    plt.imshow(cm, interpolation='nearest', cmap=cmap)\n",
    "    plt.title(title)\n",
    "    plt.colorbar()\n",
    "    tick_marks = np.arange(len(classes))\n",
    "    plt.xticks(tick_marks, classes, rotation=45)\n",
    "    plt.yticks(tick_marks, classes)\n",
    "\n",
    "    fmt = 'd'\n",
    "    thresh = cm.max() / 2.\n",
    "    for i, j in itertools.product(range(cm.shape[0]), range(cm.shape[1])):\n",
    "        plt.text(j, i, format(cm[i, j], fmt),\n",
    "        horizontalalignment=\"center\",\n",
    "        color=\"black\" if cm[i, j] > thresh else \"black\")\n",
    "\n",
    "        plt.tight_layout()\n",
    "        plt.ylabel('True label')\n",
    "        plt.xlabel('Predicted label')\n",
    "\n",
    "# Plot non-normalized confusion matrix\n",
    "plt.figure()\n",
    "fig, ax = plt.subplots(figsize=(6,4))\n",
    "plot_conf_mat(df_cm_test, classes=['Not Positive Sentiment', 'Positive Sentiment'], \n",
    "                          title='Confusion matrix')\n",
    "plt.show()"
   ]
  },
  {
   "cell_type": "code",
   "execution_count": 41,
   "metadata": {},
   "outputs": [
    {
     "name": "stdout",
     "output_type": "stream",
     "text": [
      "AUC is 0.8474\n"
     ]
    },
    {
     "data": {
      "image/png": "[encoded data removed]",
      "text/plain": [
       "<Figure size 432x288 with 1 Axes>"
      ]
     },
     "metadata": {
      "image/png": {
       "height": 277,
       "width": 387
      }
     },
     "output_type": "display_data"
    }
   ],
   "source": [
    "from sklearn import metrics\n",
    "\n",
    "import matplotlib.pyplot as plt\n",
    "%matplotlib inline\n",
    "%config InlineBackend.figure_format='retina'\n",
    "\n",
    "auc = round(metrics.roc_auc_score(y_test, preds_test), 4)\n",
    "print('AUC is ' + repr(auc))\n",
    "\n",
    "fpr, tpr, _ = metrics.roc_curve(y_test, preds_test)\n",
    "\n",
    "plt.title('ROC Curve')\n",
    "plt.plot(fpr, tpr, 'b',\n",
    "label='AUC = %0.2f'% auc)\n",
    "plt.legend(loc='lower right')\n",
    "plt.plot([0,1],[0,1],'r--')\n",
    "plt.xlim([-0.1,1.1])\n",
    "plt.ylim([-0.1,1.1])\n",
    "plt.ylabel('True Positive Rate')\n",
    "plt.xlabel('False Positive Rate')\n",
    "plt.show()"
   ]
  },
  {
   "cell_type": "markdown",
   "metadata": {},
   "source": [
    "# Summary\n",
    "We used AutoPilot to automatically find the best model, hyper-parameters, and feature-engineering scripts for our dataset.  \n",
    "\n",
    "AutoPilot uses a white-box approach to generate re-usable exploration Jupyter Notebooks and transformation Python scripts to continue to train and deploy our model on new data - well after this initial interaction with the AutoPilot service."
   ]
  },
  {
   "cell_type": "code",
   "execution_count": null,
   "metadata": {},
   "outputs": [],
   "source": []
  }
 ],
 "metadata": {
  "kernelspec": {
   "display_name": "conda_python3",
   "language": "python",
   "name": "conda_python3"
  },
  "language_info": {
   "codemirror_mode": {
    "name": "ipython",
    "version": 3
   },
   "file_extension": ".py",
   "mimetype": "text/x-python",
   "name": "python",
   "nbconvert_exporter": "python",
   "pygments_lexer": "ipython3",
   "version": "3.6.5"
  }
 },
 "nbformat": 4,
 "nbformat_minor": 4
}
